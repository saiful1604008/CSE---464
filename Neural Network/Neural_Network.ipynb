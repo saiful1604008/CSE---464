{
  "nbformat": 4,
  "nbformat_minor": 0,
  "metadata": {
    "colab": {
      "name": "Neural_Network.ipynb",
      "provenance": [],
      "collapsed_sections": []
    },
    "kernelspec": {
      "name": "python3",
      "display_name": "Python 3"
    },
    "language_info": {
      "name": "python"
    }
  },
  "cells": [
    {
      "cell_type": "code",
      "metadata": {
        "id": "PkGtCbad6rJm"
      },
      "source": [
        "import pandas as pd\n",
        "import numpy as np\n",
        "from sklearn.model_selection import train_test_split \n",
        "from sklearn import metrics \n",
        "from sklearn.preprocessing import LabelEncoder"
      ],
      "execution_count": 55,
      "outputs": []
    },
    {
      "cell_type": "code",
      "metadata": {
        "colab": {
          "base_uri": "https://localhost:8080/",
          "height": 462
        },
        "id": "Sx6FZeSU8z0o",
        "outputId": "3dc08457-8682-4407-ee83-bde4a8c3855d"
      },
      "source": [
        "data = pd.read_csv('/content/drive/MyDrive/Dataset_depression/Dataset.csv')\n",
        "data = data.drop(['Timestamp'], axis=1)\n",
        "data.head()"
      ],
      "execution_count": 56,
      "outputs": [
        {
          "output_type": "execute_result",
          "data": {
            "text/html": [
              "<div>\n",
              "<style scoped>\n",
              "    .dataframe tbody tr th:only-of-type {\n",
              "        vertical-align: middle;\n",
              "    }\n",
              "\n",
              "    .dataframe tbody tr th {\n",
              "        vertical-align: top;\n",
              "    }\n",
              "\n",
              "    .dataframe thead th {\n",
              "        text-align: right;\n",
              "    }\n",
              "</style>\n",
              "<table border=\"1\" class=\"dataframe\">\n",
              "  <thead>\n",
              "    <tr style=\"text-align: right;\">\n",
              "      <th></th>\n",
              "      <th>Which year are you in?</th>\n",
              "      <th>How are you feeling right now?</th>\n",
              "      <th>On a scale of 1-100, how would you express this feeling?</th>\n",
              "      <th>Gender</th>\n",
              "      <th>Age</th>\n",
              "      <th>Your location ?</th>\n",
              "      <th>Relationship status</th>\n",
              "      <th>Are you happy with your financial state?</th>\n",
              "      <th>How much have you succeeded to cope up with the environment of your educational institution?</th>\n",
              "      <th>Understanding with your family members?</th>\n",
              "      <th>Are you feeling pressure in your study or work right now?</th>\n",
              "      <th>Are you satisfied with your academic result?</th>\n",
              "      <th>Are you happy with your living place?</th>\n",
              "      <th>Who supports you when you are not succeeding in your academic life?</th>\n",
              "      <th>Have you used any social media within the last 6 hours?</th>\n",
              "      <th>Do you have inferiority complex?</th>\n",
              "      <th>Are you satisfied with your meal today?</th>\n",
              "      <th>Are you feeling sick/health issues today?</th>\n",
              "      <th>Have you done any recreational activity (sports, gaming, hobby etc.) today?</th>\n",
              "      <th>How long did you sleep last night?(in hours)</th>\n",
              "    </tr>\n",
              "  </thead>\n",
              "  <tbody>\n",
              "    <tr>\n",
              "      <th>0</th>\n",
              "      <td>4th year</td>\n",
              "      <td>Normal</td>\n",
              "      <td>50</td>\n",
              "      <td>Male</td>\n",
              "      <td>23</td>\n",
              "      <td>Home</td>\n",
              "      <td>Single</td>\n",
              "      <td>Yes</td>\n",
              "      <td>4</td>\n",
              "      <td>Normal</td>\n",
              "      <td>No</td>\n",
              "      <td>Yes</td>\n",
              "      <td>No</td>\n",
              "      <td>Family</td>\n",
              "      <td>Yes</td>\n",
              "      <td>No</td>\n",
              "      <td>Yes</td>\n",
              "      <td>No</td>\n",
              "      <td>No</td>\n",
              "      <td>7</td>\n",
              "    </tr>\n",
              "    <tr>\n",
              "      <th>1</th>\n",
              "      <td>4th year</td>\n",
              "      <td>Normal</td>\n",
              "      <td>40</td>\n",
              "      <td>Male</td>\n",
              "      <td>23</td>\n",
              "      <td>Home</td>\n",
              "      <td>Single</td>\n",
              "      <td>Yes</td>\n",
              "      <td>4</td>\n",
              "      <td>Normal</td>\n",
              "      <td>Yes</td>\n",
              "      <td>Yes</td>\n",
              "      <td>No</td>\n",
              "      <td>Family</td>\n",
              "      <td>Yes</td>\n",
              "      <td>No</td>\n",
              "      <td>Yes</td>\n",
              "      <td>No</td>\n",
              "      <td>No</td>\n",
              "      <td>7</td>\n",
              "    </tr>\n",
              "    <tr>\n",
              "      <th>2</th>\n",
              "      <td>4th year</td>\n",
              "      <td>Bad</td>\n",
              "      <td>50</td>\n",
              "      <td>Male</td>\n",
              "      <td>23</td>\n",
              "      <td>Home</td>\n",
              "      <td>Single</td>\n",
              "      <td>Yes</td>\n",
              "      <td>4</td>\n",
              "      <td>Normal</td>\n",
              "      <td>Yes</td>\n",
              "      <td>Yes</td>\n",
              "      <td>No</td>\n",
              "      <td>Family</td>\n",
              "      <td>Yes</td>\n",
              "      <td>No</td>\n",
              "      <td>Yes</td>\n",
              "      <td>No</td>\n",
              "      <td>No</td>\n",
              "      <td>7</td>\n",
              "    </tr>\n",
              "    <tr>\n",
              "      <th>3</th>\n",
              "      <td>4th year</td>\n",
              "      <td>Normal</td>\n",
              "      <td>45</td>\n",
              "      <td>Male</td>\n",
              "      <td>23</td>\n",
              "      <td>Home</td>\n",
              "      <td>Single</td>\n",
              "      <td>Yes</td>\n",
              "      <td>4</td>\n",
              "      <td>Normal</td>\n",
              "      <td>No</td>\n",
              "      <td>Yes</td>\n",
              "      <td>No</td>\n",
              "      <td>Family</td>\n",
              "      <td>Yes</td>\n",
              "      <td>No</td>\n",
              "      <td>Yes</td>\n",
              "      <td>No</td>\n",
              "      <td>No</td>\n",
              "      <td>7</td>\n",
              "    </tr>\n",
              "    <tr>\n",
              "      <th>4</th>\n",
              "      <td>4th year</td>\n",
              "      <td>Normal</td>\n",
              "      <td>50</td>\n",
              "      <td>Male</td>\n",
              "      <td>23</td>\n",
              "      <td>Home</td>\n",
              "      <td>Single</td>\n",
              "      <td>Yes</td>\n",
              "      <td>4</td>\n",
              "      <td>Normal</td>\n",
              "      <td>Yes</td>\n",
              "      <td>Yes</td>\n",
              "      <td>Yes</td>\n",
              "      <td>Family</td>\n",
              "      <td>Yes</td>\n",
              "      <td>No</td>\n",
              "      <td>Yes</td>\n",
              "      <td>No</td>\n",
              "      <td>No</td>\n",
              "      <td>7</td>\n",
              "    </tr>\n",
              "  </tbody>\n",
              "</table>\n",
              "</div>"
            ],
            "text/plain": [
              "  Which year are you in?  ... How long did you sleep last night?(in hours)\n",
              "0               4th year  ...                                            7\n",
              "1               4th year  ...                                            7\n",
              "2               4th year  ...                                            7\n",
              "3               4th year  ...                                            7\n",
              "4               4th year  ...                                            7\n",
              "\n",
              "[5 rows x 20 columns]"
            ]
          },
          "metadata": {},
          "execution_count": 56
        }
      ]
    },
    {
      "cell_type": "code",
      "metadata": {
        "colab": {
          "base_uri": "https://localhost:8080/",
          "height": 309
        },
        "id": "j7SwixjX86aW",
        "outputId": "8f80c690-6675-4508-9a57-819a75a2770c"
      },
      "source": [
        "data.columns = ['year', 'feeling', 'feeling_scale', 'gender', 'age', 'location',\n",
        "              'relation', 'fin_state', 'cope', 'fam_understanding', 'pressure', 'result', 'living_place',\n",
        "              'support', 'social_media', 'inferiority', 'meal', 'sick', 'hobby', 'sleep']\n",
        "data.head()"
      ],
      "execution_count": 57,
      "outputs": [
        {
          "output_type": "execute_result",
          "data": {
            "text/html": [
              "<div>\n",
              "<style scoped>\n",
              "    .dataframe tbody tr th:only-of-type {\n",
              "        vertical-align: middle;\n",
              "    }\n",
              "\n",
              "    .dataframe tbody tr th {\n",
              "        vertical-align: top;\n",
              "    }\n",
              "\n",
              "    .dataframe thead th {\n",
              "        text-align: right;\n",
              "    }\n",
              "</style>\n",
              "<table border=\"1\" class=\"dataframe\">\n",
              "  <thead>\n",
              "    <tr style=\"text-align: right;\">\n",
              "      <th></th>\n",
              "      <th>year</th>\n",
              "      <th>feeling</th>\n",
              "      <th>feeling_scale</th>\n",
              "      <th>gender</th>\n",
              "      <th>age</th>\n",
              "      <th>location</th>\n",
              "      <th>relation</th>\n",
              "      <th>fin_state</th>\n",
              "      <th>cope</th>\n",
              "      <th>fam_understanding</th>\n",
              "      <th>pressure</th>\n",
              "      <th>result</th>\n",
              "      <th>living_place</th>\n",
              "      <th>support</th>\n",
              "      <th>social_media</th>\n",
              "      <th>inferiority</th>\n",
              "      <th>meal</th>\n",
              "      <th>sick</th>\n",
              "      <th>hobby</th>\n",
              "      <th>sleep</th>\n",
              "    </tr>\n",
              "  </thead>\n",
              "  <tbody>\n",
              "    <tr>\n",
              "      <th>0</th>\n",
              "      <td>4th year</td>\n",
              "      <td>Normal</td>\n",
              "      <td>50</td>\n",
              "      <td>Male</td>\n",
              "      <td>23</td>\n",
              "      <td>Home</td>\n",
              "      <td>Single</td>\n",
              "      <td>Yes</td>\n",
              "      <td>4</td>\n",
              "      <td>Normal</td>\n",
              "      <td>No</td>\n",
              "      <td>Yes</td>\n",
              "      <td>No</td>\n",
              "      <td>Family</td>\n",
              "      <td>Yes</td>\n",
              "      <td>No</td>\n",
              "      <td>Yes</td>\n",
              "      <td>No</td>\n",
              "      <td>No</td>\n",
              "      <td>7</td>\n",
              "    </tr>\n",
              "    <tr>\n",
              "      <th>1</th>\n",
              "      <td>4th year</td>\n",
              "      <td>Normal</td>\n",
              "      <td>40</td>\n",
              "      <td>Male</td>\n",
              "      <td>23</td>\n",
              "      <td>Home</td>\n",
              "      <td>Single</td>\n",
              "      <td>Yes</td>\n",
              "      <td>4</td>\n",
              "      <td>Normal</td>\n",
              "      <td>Yes</td>\n",
              "      <td>Yes</td>\n",
              "      <td>No</td>\n",
              "      <td>Family</td>\n",
              "      <td>Yes</td>\n",
              "      <td>No</td>\n",
              "      <td>Yes</td>\n",
              "      <td>No</td>\n",
              "      <td>No</td>\n",
              "      <td>7</td>\n",
              "    </tr>\n",
              "    <tr>\n",
              "      <th>2</th>\n",
              "      <td>4th year</td>\n",
              "      <td>Bad</td>\n",
              "      <td>50</td>\n",
              "      <td>Male</td>\n",
              "      <td>23</td>\n",
              "      <td>Home</td>\n",
              "      <td>Single</td>\n",
              "      <td>Yes</td>\n",
              "      <td>4</td>\n",
              "      <td>Normal</td>\n",
              "      <td>Yes</td>\n",
              "      <td>Yes</td>\n",
              "      <td>No</td>\n",
              "      <td>Family</td>\n",
              "      <td>Yes</td>\n",
              "      <td>No</td>\n",
              "      <td>Yes</td>\n",
              "      <td>No</td>\n",
              "      <td>No</td>\n",
              "      <td>7</td>\n",
              "    </tr>\n",
              "    <tr>\n",
              "      <th>3</th>\n",
              "      <td>4th year</td>\n",
              "      <td>Normal</td>\n",
              "      <td>45</td>\n",
              "      <td>Male</td>\n",
              "      <td>23</td>\n",
              "      <td>Home</td>\n",
              "      <td>Single</td>\n",
              "      <td>Yes</td>\n",
              "      <td>4</td>\n",
              "      <td>Normal</td>\n",
              "      <td>No</td>\n",
              "      <td>Yes</td>\n",
              "      <td>No</td>\n",
              "      <td>Family</td>\n",
              "      <td>Yes</td>\n",
              "      <td>No</td>\n",
              "      <td>Yes</td>\n",
              "      <td>No</td>\n",
              "      <td>No</td>\n",
              "      <td>7</td>\n",
              "    </tr>\n",
              "    <tr>\n",
              "      <th>4</th>\n",
              "      <td>4th year</td>\n",
              "      <td>Normal</td>\n",
              "      <td>50</td>\n",
              "      <td>Male</td>\n",
              "      <td>23</td>\n",
              "      <td>Home</td>\n",
              "      <td>Single</td>\n",
              "      <td>Yes</td>\n",
              "      <td>4</td>\n",
              "      <td>Normal</td>\n",
              "      <td>Yes</td>\n",
              "      <td>Yes</td>\n",
              "      <td>Yes</td>\n",
              "      <td>Family</td>\n",
              "      <td>Yes</td>\n",
              "      <td>No</td>\n",
              "      <td>Yes</td>\n",
              "      <td>No</td>\n",
              "      <td>No</td>\n",
              "      <td>7</td>\n",
              "    </tr>\n",
              "  </tbody>\n",
              "</table>\n",
              "</div>"
            ],
            "text/plain": [
              "       year feeling  feeling_scale gender  ...  meal sick hobby sleep\n",
              "0  4th year  Normal             50   Male  ...   Yes   No    No     7\n",
              "1  4th year  Normal             40   Male  ...   Yes   No    No     7\n",
              "2  4th year     Bad             50   Male  ...   Yes   No    No     7\n",
              "3  4th year  Normal             45   Male  ...   Yes   No    No     7\n",
              "4  4th year  Normal             50   Male  ...   Yes   No    No     7\n",
              "\n",
              "[5 rows x 20 columns]"
            ]
          },
          "metadata": {},
          "execution_count": 57
        }
      ]
    },
    {
      "cell_type": "code",
      "metadata": {
        "colab": {
          "base_uri": "https://localhost:8080/",
          "height": 439
        },
        "id": "dZhjcpyx9AGo",
        "outputId": "815f83c9-3990-4a52-f355-f1ee14ba333d"
      },
      "source": [
        "dataset_encoded=data.iloc[:,0:20]\n",
        "\n",
        "encoder=LabelEncoder()\n",
        "\n",
        "for i in dataset_encoded:\n",
        "    dataset_encoded[i]=encoder.fit_transform(dataset_encoded[i].astype(str))\n",
        "\n",
        "dataset_encoded"
      ],
      "execution_count": 4,
      "outputs": [
        {
          "output_type": "execute_result",
          "data": {
            "text/html": [
              "<div>\n",
              "<style scoped>\n",
              "    .dataframe tbody tr th:only-of-type {\n",
              "        vertical-align: middle;\n",
              "    }\n",
              "\n",
              "    .dataframe tbody tr th {\n",
              "        vertical-align: top;\n",
              "    }\n",
              "\n",
              "    .dataframe thead th {\n",
              "        text-align: right;\n",
              "    }\n",
              "</style>\n",
              "<table border=\"1\" class=\"dataframe\">\n",
              "  <thead>\n",
              "    <tr style=\"text-align: right;\">\n",
              "      <th></th>\n",
              "      <th>year</th>\n",
              "      <th>feeling</th>\n",
              "      <th>feeling_scale</th>\n",
              "      <th>gender</th>\n",
              "      <th>age</th>\n",
              "      <th>location</th>\n",
              "      <th>relation</th>\n",
              "      <th>fin_state</th>\n",
              "      <th>cope</th>\n",
              "      <th>fam_understanding</th>\n",
              "      <th>pressure</th>\n",
              "      <th>result</th>\n",
              "      <th>living_place</th>\n",
              "      <th>support</th>\n",
              "      <th>social_media</th>\n",
              "      <th>inferiority</th>\n",
              "      <th>meal</th>\n",
              "      <th>sick</th>\n",
              "      <th>hobby</th>\n",
              "      <th>sleep</th>\n",
              "    </tr>\n",
              "  </thead>\n",
              "  <tbody>\n",
              "    <tr>\n",
              "      <th>0</th>\n",
              "      <td>0</td>\n",
              "      <td>2</td>\n",
              "      <td>46</td>\n",
              "      <td>0</td>\n",
              "      <td>0</td>\n",
              "      <td>2</td>\n",
              "      <td>0</td>\n",
              "      <td>1</td>\n",
              "      <td>3</td>\n",
              "      <td>2</td>\n",
              "      <td>0</td>\n",
              "      <td>1</td>\n",
              "      <td>0</td>\n",
              "      <td>0</td>\n",
              "      <td>0</td>\n",
              "      <td>1</td>\n",
              "      <td>2</td>\n",
              "      <td>0</td>\n",
              "      <td>0</td>\n",
              "      <td>5</td>\n",
              "    </tr>\n",
              "    <tr>\n",
              "      <th>1</th>\n",
              "      <td>0</td>\n",
              "      <td>2</td>\n",
              "      <td>35</td>\n",
              "      <td>0</td>\n",
              "      <td>0</td>\n",
              "      <td>2</td>\n",
              "      <td>0</td>\n",
              "      <td>1</td>\n",
              "      <td>3</td>\n",
              "      <td>2</td>\n",
              "      <td>1</td>\n",
              "      <td>1</td>\n",
              "      <td>0</td>\n",
              "      <td>0</td>\n",
              "      <td>0</td>\n",
              "      <td>1</td>\n",
              "      <td>2</td>\n",
              "      <td>0</td>\n",
              "      <td>0</td>\n",
              "      <td>5</td>\n",
              "    </tr>\n",
              "    <tr>\n",
              "      <th>2</th>\n",
              "      <td>0</td>\n",
              "      <td>0</td>\n",
              "      <td>46</td>\n",
              "      <td>0</td>\n",
              "      <td>0</td>\n",
              "      <td>2</td>\n",
              "      <td>0</td>\n",
              "      <td>1</td>\n",
              "      <td>3</td>\n",
              "      <td>2</td>\n",
              "      <td>1</td>\n",
              "      <td>1</td>\n",
              "      <td>0</td>\n",
              "      <td>0</td>\n",
              "      <td>0</td>\n",
              "      <td>1</td>\n",
              "      <td>2</td>\n",
              "      <td>0</td>\n",
              "      <td>0</td>\n",
              "      <td>5</td>\n",
              "    </tr>\n",
              "    <tr>\n",
              "      <th>3</th>\n",
              "      <td>0</td>\n",
              "      <td>2</td>\n",
              "      <td>40</td>\n",
              "      <td>0</td>\n",
              "      <td>0</td>\n",
              "      <td>2</td>\n",
              "      <td>0</td>\n",
              "      <td>1</td>\n",
              "      <td>3</td>\n",
              "      <td>2</td>\n",
              "      <td>0</td>\n",
              "      <td>1</td>\n",
              "      <td>0</td>\n",
              "      <td>0</td>\n",
              "      <td>0</td>\n",
              "      <td>1</td>\n",
              "      <td>2</td>\n",
              "      <td>0</td>\n",
              "      <td>0</td>\n",
              "      <td>5</td>\n",
              "    </tr>\n",
              "    <tr>\n",
              "      <th>4</th>\n",
              "      <td>0</td>\n",
              "      <td>2</td>\n",
              "      <td>46</td>\n",
              "      <td>0</td>\n",
              "      <td>0</td>\n",
              "      <td>2</td>\n",
              "      <td>0</td>\n",
              "      <td>1</td>\n",
              "      <td>3</td>\n",
              "      <td>2</td>\n",
              "      <td>1</td>\n",
              "      <td>1</td>\n",
              "      <td>1</td>\n",
              "      <td>0</td>\n",
              "      <td>0</td>\n",
              "      <td>1</td>\n",
              "      <td>2</td>\n",
              "      <td>0</td>\n",
              "      <td>0</td>\n",
              "      <td>5</td>\n",
              "    </tr>\n",
              "    <tr>\n",
              "      <th>...</th>\n",
              "      <td>...</td>\n",
              "      <td>...</td>\n",
              "      <td>...</td>\n",
              "      <td>...</td>\n",
              "      <td>...</td>\n",
              "      <td>...</td>\n",
              "      <td>...</td>\n",
              "      <td>...</td>\n",
              "      <td>...</td>\n",
              "      <td>...</td>\n",
              "      <td>...</td>\n",
              "      <td>...</td>\n",
              "      <td>...</td>\n",
              "      <td>...</td>\n",
              "      <td>...</td>\n",
              "      <td>...</td>\n",
              "      <td>...</td>\n",
              "      <td>...</td>\n",
              "      <td>...</td>\n",
              "      <td>...</td>\n",
              "    </tr>\n",
              "    <tr>\n",
              "      <th>699</th>\n",
              "      <td>0</td>\n",
              "      <td>2</td>\n",
              "      <td>59</td>\n",
              "      <td>0</td>\n",
              "      <td>0</td>\n",
              "      <td>3</td>\n",
              "      <td>0</td>\n",
              "      <td>1</td>\n",
              "      <td>4</td>\n",
              "      <td>2</td>\n",
              "      <td>0</td>\n",
              "      <td>0</td>\n",
              "      <td>0</td>\n",
              "      <td>1</td>\n",
              "      <td>0</td>\n",
              "      <td>0</td>\n",
              "      <td>2</td>\n",
              "      <td>0</td>\n",
              "      <td>0</td>\n",
              "      <td>6</td>\n",
              "    </tr>\n",
              "    <tr>\n",
              "      <th>700</th>\n",
              "      <td>0</td>\n",
              "      <td>4</td>\n",
              "      <td>90</td>\n",
              "      <td>0</td>\n",
              "      <td>0</td>\n",
              "      <td>3</td>\n",
              "      <td>0</td>\n",
              "      <td>1</td>\n",
              "      <td>4</td>\n",
              "      <td>2</td>\n",
              "      <td>0</td>\n",
              "      <td>0</td>\n",
              "      <td>1</td>\n",
              "      <td>0</td>\n",
              "      <td>0</td>\n",
              "      <td>1</td>\n",
              "      <td>0</td>\n",
              "      <td>0</td>\n",
              "      <td>1</td>\n",
              "      <td>7</td>\n",
              "    </tr>\n",
              "    <tr>\n",
              "      <th>701</th>\n",
              "      <td>0</td>\n",
              "      <td>4</td>\n",
              "      <td>92</td>\n",
              "      <td>0</td>\n",
              "      <td>0</td>\n",
              "      <td>1</td>\n",
              "      <td>0</td>\n",
              "      <td>1</td>\n",
              "      <td>4</td>\n",
              "      <td>2</td>\n",
              "      <td>0</td>\n",
              "      <td>1</td>\n",
              "      <td>1</td>\n",
              "      <td>0</td>\n",
              "      <td>0</td>\n",
              "      <td>1</td>\n",
              "      <td>2</td>\n",
              "      <td>0</td>\n",
              "      <td>0</td>\n",
              "      <td>6</td>\n",
              "    </tr>\n",
              "    <tr>\n",
              "      <th>702</th>\n",
              "      <td>0</td>\n",
              "      <td>4</td>\n",
              "      <td>99</td>\n",
              "      <td>0</td>\n",
              "      <td>0</td>\n",
              "      <td>3</td>\n",
              "      <td>0</td>\n",
              "      <td>1</td>\n",
              "      <td>3</td>\n",
              "      <td>1</td>\n",
              "      <td>0</td>\n",
              "      <td>1</td>\n",
              "      <td>1</td>\n",
              "      <td>1</td>\n",
              "      <td>0</td>\n",
              "      <td>1</td>\n",
              "      <td>2</td>\n",
              "      <td>0</td>\n",
              "      <td>1</td>\n",
              "      <td>0</td>\n",
              "    </tr>\n",
              "    <tr>\n",
              "      <th>703</th>\n",
              "      <td>0</td>\n",
              "      <td>1</td>\n",
              "      <td>85</td>\n",
              "      <td>0</td>\n",
              "      <td>0</td>\n",
              "      <td>1</td>\n",
              "      <td>0</td>\n",
              "      <td>1</td>\n",
              "      <td>4</td>\n",
              "      <td>2</td>\n",
              "      <td>0</td>\n",
              "      <td>0</td>\n",
              "      <td>1</td>\n",
              "      <td>0</td>\n",
              "      <td>0</td>\n",
              "      <td>1</td>\n",
              "      <td>2</td>\n",
              "      <td>0</td>\n",
              "      <td>0</td>\n",
              "      <td>6</td>\n",
              "    </tr>\n",
              "  </tbody>\n",
              "</table>\n",
              "<p>704 rows × 20 columns</p>\n",
              "</div>"
            ],
            "text/plain": [
              "     year  feeling  feeling_scale  gender  ...  meal  sick  hobby  sleep\n",
              "0       0        2             46       0  ...     2     0      0      5\n",
              "1       0        2             35       0  ...     2     0      0      5\n",
              "2       0        0             46       0  ...     2     0      0      5\n",
              "3       0        2             40       0  ...     2     0      0      5\n",
              "4       0        2             46       0  ...     2     0      0      5\n",
              "..    ...      ...            ...     ...  ...   ...   ...    ...    ...\n",
              "699     0        2             59       0  ...     2     0      0      6\n",
              "700     0        4             90       0  ...     0     0      1      7\n",
              "701     0        4             92       0  ...     2     0      0      6\n",
              "702     0        4             99       0  ...     2     0      1      0\n",
              "703     0        1             85       0  ...     2     0      0      6\n",
              "\n",
              "[704 rows x 20 columns]"
            ]
          },
          "metadata": {},
          "execution_count": 4
        }
      ]
    },
    {
      "cell_type": "code",
      "metadata": {
        "colab": {
          "base_uri": "https://localhost:8080/"
        },
        "id": "a604Da7x9UoL",
        "outputId": "cfc4dbc7-f2e1-4ce1-8669-c41acd4ee214"
      },
      "source": [
        "feature_cols = ['feeling_scale', 'relation', 'fin_state', 'cope', 'pressure' ,'fam_understanding','result', 'support', 'social_media', 'inferiority', 'sleep']\n",
        "X = dataset_encoded[feature_cols]          # Features\n",
        "y = dataset_encoded.feeling              # Target variable\n",
        "\n",
        "one_hot = pd.get_dummies(y)\n",
        "one_hot.shape"
      ],
      "execution_count": 105,
      "outputs": [
        {
          "output_type": "execute_result",
          "data": {
            "text/plain": [
              "(704, 5)"
            ]
          },
          "metadata": {},
          "execution_count": 105
        }
      ]
    },
    {
      "cell_type": "code",
      "metadata": {
        "id": "IH_Dvmrp-Kv3"
      },
      "source": [
        "X_train, X_test, y_train, y_test = train_test_split(X, one_hot, test_size=0.3, random_state=1)"
      ],
      "execution_count": 106,
      "outputs": []
    },
    {
      "cell_type": "code",
      "metadata": {
        "colab": {
          "base_uri": "https://localhost:8080/"
        },
        "id": "EI7_pXcl-TcU",
        "outputId": "e1accf39-a8f1-45a8-829c-2be1477277dd"
      },
      "source": [
        "X_train.shape"
      ],
      "execution_count": 107,
      "outputs": [
        {
          "output_type": "execute_result",
          "data": {
            "text/plain": [
              "(492, 11)"
            ]
          },
          "metadata": {},
          "execution_count": 107
        }
      ]
    },
    {
      "cell_type": "code",
      "metadata": {
        "colab": {
          "base_uri": "https://localhost:8080/"
        },
        "id": "LaQtEq-p-X_d",
        "outputId": "a0d3750e-75a6-4386-8daa-63ceb4175cbd"
      },
      "source": [
        "y_train.shape"
      ],
      "execution_count": 108,
      "outputs": [
        {
          "output_type": "execute_result",
          "data": {
            "text/plain": [
              "(492, 5)"
            ]
          },
          "metadata": {},
          "execution_count": 108
        }
      ]
    },
    {
      "cell_type": "markdown",
      "metadata": {
        "id": "5xtbmpPwCluq"
      },
      "source": [
        "# Developing Neural Network"
      ]
    },
    {
      "cell_type": "code",
      "metadata": {
        "id": "OtRt7OLj-juX"
      },
      "source": [
        "from tensorflow import keras\n",
        "from keras.preprocessing.text import Tokenizer\n",
        "from keras.preprocessing.sequence import pad_sequences\n",
        "from keras.models import Sequential\n",
        "from keras.layers import Dense, Embedding, LSTM, SpatialDropout1D\n",
        "from sklearn.model_selection import train_test_split\n",
        "from keras.utils.np_utils import to_categorical\n",
        "from keras.callbacks import EarlyStopping\n",
        "from keras.layers import Dropout"
      ],
      "execution_count": 109,
      "outputs": []
    },
    {
      "cell_type": "code",
      "metadata": {
        "colab": {
          "base_uri": "https://localhost:8080/"
        },
        "id": "-kbvTfHZ-nmZ",
        "outputId": "78ccac48-9c71-4dc5-f96d-8a0f93da5997"
      },
      "source": [
        "model = Sequential()\n",
        "model.add(Dense(12, input_dim=11, activation=\"relu\"))\n",
        "\n",
        "model.add(Dense(8,  activation=\"relu\"))\n",
        "model.add(Dense(8,  activation=\"relu\"))\n",
        "\n",
        "model.add(Dense(5, activation=\"softmax\"))\n",
        "model.compile(loss='categorical_crossentropy', optimizer='adam', metrics=['accuracy'])\n",
        "model.summary()"
      ],
      "execution_count": 164,
      "outputs": [
        {
          "output_type": "stream",
          "name": "stdout",
          "text": [
            "Model: \"sequential_12\"\n",
            "_________________________________________________________________\n",
            "Layer (type)                 Output Shape              Param #   \n",
            "=================================================================\n",
            "dense_48 (Dense)             (None, 12)                144       \n",
            "_________________________________________________________________\n",
            "dense_49 (Dense)             (None, 8)                 104       \n",
            "_________________________________________________________________\n",
            "dense_50 (Dense)             (None, 8)                 72        \n",
            "_________________________________________________________________\n",
            "dense_51 (Dense)             (None, 5)                 45        \n",
            "=================================================================\n",
            "Total params: 365\n",
            "Trainable params: 365\n",
            "Non-trainable params: 0\n",
            "_________________________________________________________________\n"
          ]
        }
      ]
    },
    {
      "cell_type": "code",
      "metadata": {
        "colab": {
          "base_uri": "https://localhost:8080/"
        },
        "id": "MIR-aSeE-8UY",
        "outputId": "6c18c20f-8db7-4c80-b1b7-3d2f97482058"
      },
      "source": [
        "model_result = model.fit(X_train, y_train, epochs= 40, validation_split=0.3)"
      ],
      "execution_count": 165,
      "outputs": [
        {
          "output_type": "stream",
          "name": "stdout",
          "text": [
            "Epoch 1/40\n",
            "11/11 [==============================] - 1s 22ms/step - loss: 4.8345 - accuracy: 0.1570 - val_loss: 4.3154 - val_accuracy: 0.1486\n",
            "Epoch 2/40\n",
            "11/11 [==============================] - 0s 6ms/step - loss: 3.7194 - accuracy: 0.1337 - val_loss: 3.6963 - val_accuracy: 0.1689\n",
            "Epoch 3/40\n",
            "11/11 [==============================] - 0s 4ms/step - loss: 3.1316 - accuracy: 0.0756 - val_loss: 3.1858 - val_accuracy: 0.0270\n",
            "Epoch 4/40\n",
            "11/11 [==============================] - 0s 5ms/step - loss: 2.6991 - accuracy: 0.0843 - val_loss: 2.7259 - val_accuracy: 0.1216\n",
            "Epoch 5/40\n",
            "11/11 [==============================] - 0s 5ms/step - loss: 2.3853 - accuracy: 0.1105 - val_loss: 2.3842 - val_accuracy: 0.1149\n",
            "Epoch 6/40\n",
            "11/11 [==============================] - 0s 5ms/step - loss: 2.1382 - accuracy: 0.1105 - val_loss: 2.1496 - val_accuracy: 0.1014\n",
            "Epoch 7/40\n",
            "11/11 [==============================] - 0s 4ms/step - loss: 1.9617 - accuracy: 0.1221 - val_loss: 1.9787 - val_accuracy: 0.1689\n",
            "Epoch 8/40\n",
            "11/11 [==============================] - 0s 5ms/step - loss: 1.8309 - accuracy: 0.1860 - val_loss: 1.8745 - val_accuracy: 0.2297\n",
            "Epoch 9/40\n",
            "11/11 [==============================] - 0s 6ms/step - loss: 1.7509 - accuracy: 0.2791 - val_loss: 1.7856 - val_accuracy: 0.2973\n",
            "Epoch 10/40\n",
            "11/11 [==============================] - 0s 4ms/step - loss: 1.6866 - accuracy: 0.3023 - val_loss: 1.7150 - val_accuracy: 0.2838\n",
            "Epoch 11/40\n",
            "11/11 [==============================] - 0s 5ms/step - loss: 1.6385 - accuracy: 0.2936 - val_loss: 1.6593 - val_accuracy: 0.2973\n",
            "Epoch 12/40\n",
            "11/11 [==============================] - 0s 5ms/step - loss: 1.6017 - accuracy: 0.3110 - val_loss: 1.6120 - val_accuracy: 0.3108\n",
            "Epoch 13/40\n",
            "11/11 [==============================] - 0s 3ms/step - loss: 1.5660 - accuracy: 0.2907 - val_loss: 1.5915 - val_accuracy: 0.2838\n",
            "Epoch 14/40\n",
            "11/11 [==============================] - 0s 4ms/step - loss: 1.5389 - accuracy: 0.2994 - val_loss: 1.5424 - val_accuracy: 0.2973\n",
            "Epoch 15/40\n",
            "11/11 [==============================] - 0s 5ms/step - loss: 1.5175 - accuracy: 0.3314 - val_loss: 1.5144 - val_accuracy: 0.2973\n",
            "Epoch 16/40\n",
            "11/11 [==============================] - 0s 3ms/step - loss: 1.4925 - accuracy: 0.3023 - val_loss: 1.5097 - val_accuracy: 0.2838\n",
            "Epoch 17/40\n",
            "11/11 [==============================] - 0s 5ms/step - loss: 1.4808 - accuracy: 0.2994 - val_loss: 1.4737 - val_accuracy: 0.2973\n",
            "Epoch 18/40\n",
            "11/11 [==============================] - 0s 4ms/step - loss: 1.4610 - accuracy: 0.3081 - val_loss: 1.4554 - val_accuracy: 0.3243\n",
            "Epoch 19/40\n",
            "11/11 [==============================] - 0s 5ms/step - loss: 1.4510 - accuracy: 0.2965 - val_loss: 1.4454 - val_accuracy: 0.3108\n",
            "Epoch 20/40\n",
            "11/11 [==============================] - 0s 4ms/step - loss: 1.4351 - accuracy: 0.3343 - val_loss: 1.4181 - val_accuracy: 0.3378\n",
            "Epoch 21/40\n",
            "11/11 [==============================] - 0s 5ms/step - loss: 1.4239 - accuracy: 0.3314 - val_loss: 1.4109 - val_accuracy: 0.3243\n",
            "Epoch 22/40\n",
            "11/11 [==============================] - 0s 5ms/step - loss: 1.4158 - accuracy: 0.3576 - val_loss: 1.3861 - val_accuracy: 0.3514\n",
            "Epoch 23/40\n",
            "11/11 [==============================] - 0s 4ms/step - loss: 1.3842 - accuracy: 0.3808 - val_loss: 1.3644 - val_accuracy: 0.3919\n",
            "Epoch 24/40\n",
            "11/11 [==============================] - 0s 3ms/step - loss: 1.3668 - accuracy: 0.4360 - val_loss: 1.3566 - val_accuracy: 0.3851\n",
            "Epoch 25/40\n",
            "11/11 [==============================] - 0s 3ms/step - loss: 1.3478 - accuracy: 0.4099 - val_loss: 1.3376 - val_accuracy: 0.4595\n",
            "Epoch 26/40\n",
            "11/11 [==============================] - 0s 6ms/step - loss: 1.3284 - accuracy: 0.4767 - val_loss: 1.3146 - val_accuracy: 0.4392\n",
            "Epoch 27/40\n",
            "11/11 [==============================] - 0s 4ms/step - loss: 1.3123 - accuracy: 0.4855 - val_loss: 1.3038 - val_accuracy: 0.4459\n",
            "Epoch 28/40\n",
            "11/11 [==============================] - 0s 5ms/step - loss: 1.2994 - accuracy: 0.4651 - val_loss: 1.2902 - val_accuracy: 0.4324\n",
            "Epoch 29/40\n",
            "11/11 [==============================] - 0s 5ms/step - loss: 1.2852 - accuracy: 0.4767 - val_loss: 1.2730 - val_accuracy: 0.4662\n",
            "Epoch 30/40\n",
            "11/11 [==============================] - 0s 5ms/step - loss: 1.2662 - accuracy: 0.4826 - val_loss: 1.2672 - val_accuracy: 0.4257\n",
            "Epoch 31/40\n",
            "11/11 [==============================] - 0s 4ms/step - loss: 1.2508 - accuracy: 0.4942 - val_loss: 1.2507 - val_accuracy: 0.4662\n",
            "Epoch 32/40\n",
            "11/11 [==============================] - 0s 4ms/step - loss: 1.2337 - accuracy: 0.4942 - val_loss: 1.2276 - val_accuracy: 0.4797\n",
            "Epoch 33/40\n",
            "11/11 [==============================] - 0s 6ms/step - loss: 1.2179 - accuracy: 0.5087 - val_loss: 1.2225 - val_accuracy: 0.4797\n",
            "Epoch 34/40\n",
            "11/11 [==============================] - 0s 4ms/step - loss: 1.2012 - accuracy: 0.5174 - val_loss: 1.1972 - val_accuracy: 0.5068\n",
            "Epoch 35/40\n",
            "11/11 [==============================] - 0s 5ms/step - loss: 1.1860 - accuracy: 0.5640 - val_loss: 1.1868 - val_accuracy: 0.5203\n",
            "Epoch 36/40\n",
            "11/11 [==============================] - 0s 5ms/step - loss: 1.1732 - accuracy: 0.5552 - val_loss: 1.1756 - val_accuracy: 0.5203\n",
            "Epoch 37/40\n",
            "11/11 [==============================] - 0s 4ms/step - loss: 1.1542 - accuracy: 0.5814 - val_loss: 1.1438 - val_accuracy: 0.5270\n",
            "Epoch 38/40\n",
            "11/11 [==============================] - 0s 5ms/step - loss: 1.1413 - accuracy: 0.5785 - val_loss: 1.1381 - val_accuracy: 0.5405\n",
            "Epoch 39/40\n",
            "11/11 [==============================] - 0s 4ms/step - loss: 1.1444 - accuracy: 0.5523 - val_loss: 1.1160 - val_accuracy: 0.5541\n",
            "Epoch 40/40\n",
            "11/11 [==============================] - 0s 5ms/step - loss: 1.1089 - accuracy: 0.6076 - val_loss: 1.1005 - val_accuracy: 0.5608\n"
          ]
        }
      ]
    },
    {
      "cell_type": "code",
      "metadata": {
        "colab": {
          "base_uri": "https://localhost:8080/"
        },
        "id": "DOSFMEysvrdv",
        "outputId": "cb7d73f8-d54f-4c30-a104-e1db11c6a4c9"
      },
      "source": [
        "accr = model.evaluate(X_train,y_train)\n",
        "print('Train set\\n  Loss: {:0.3f}\\n  Accuracy: {:0.3f}'.format(accr[0],accr[1]))"
      ],
      "execution_count": 166,
      "outputs": [
        {
          "output_type": "stream",
          "name": "stdout",
          "text": [
            "16/16 [==============================] - 0s 2ms/step - loss: 1.0943 - accuracy: 0.6098\n",
            "Train set\n",
            "  Loss: 1.094\n",
            "  Accuracy: 0.610\n"
          ]
        }
      ]
    },
    {
      "cell_type": "code",
      "metadata": {
        "colab": {
          "base_uri": "https://localhost:8080/"
        },
        "id": "1f_--n80_wi1",
        "outputId": "f9e3ea22-23a4-4a9d-a184-e80cddb199e0"
      },
      "source": [
        "accr = model.evaluate(X_test,y_test)\n",
        "print('Test set\\n  Loss: {:0.3f}\\n  Accuracy: {:0.3f}'.format(accr[0],accr[1]))"
      ],
      "execution_count": 167,
      "outputs": [
        {
          "output_type": "stream",
          "name": "stdout",
          "text": [
            "7/7 [==============================] - 0s 2ms/step - loss: 1.0957 - accuracy: 0.5802\n",
            "Test set\n",
            "  Loss: 1.096\n",
            "  Accuracy: 0.580\n"
          ]
        }
      ]
    },
    {
      "cell_type": "markdown",
      "metadata": {
        "id": "4eWz2aFRCvxM"
      },
      "source": [
        "# Ploting Data"
      ]
    },
    {
      "cell_type": "code",
      "metadata": {
        "id": "1mH1pFUdAGgw"
      },
      "source": [
        "import matplotlib.pyplot as plt\n",
        "import seaborn as sns"
      ],
      "execution_count": 168,
      "outputs": []
    },
    {
      "cell_type": "code",
      "metadata": {
        "colab": {
          "base_uri": "https://localhost:8080/",
          "height": 295
        },
        "id": "-jhTTa-TAkTU",
        "outputId": "5d3aa27e-2295-4369-c36b-8b05bc561070"
      },
      "source": [
        "plt.plot(model_result.history['accuracy'], marker=None)\n",
        "plt.plot(model_result.history['val_accuracy'], marker=None)\n",
        "plt.xlabel('No. of Epoch')\n",
        "plt.ylabel('Accuracy')\n",
        "plt.legend(['Train Accuracy', 'Test Accuracy'], loc='lower right')\n",
        "plt.title('Train & Test Accuracy')\n",
        "plt.show()"
      ],
      "execution_count": 169,
      "outputs": [
        {
          "output_type": "display_data",
          "data": {
            "image/png": "[encoded data removed]",
            "text/plain": [
              "<Figure size 432x288 with 1 Axes>"
            ]
          },
          "metadata": {
            "needs_background": "light"
          }
        }
      ]
    },
    {
      "cell_type": "code",
      "metadata": {
        "colab": {
          "base_uri": "https://localhost:8080/",
          "height": 295
        },
        "id": "QB79LaIbCD1e",
        "outputId": "51cd5eff-aafa-4a66-f73a-43cb3d238c33"
      },
      "source": [
        "plt.plot(model_result.history['loss'], marker=None)\n",
        "plt.plot(model_result.history['val_loss'], marker=None)\n",
        "plt.xlabel('No. of Epoch')\n",
        "plt.ylabel('Loss')\n",
        "plt.legend(['Train loss', 'Test loss'], loc='upper right')\n",
        "plt.title('Train & Test Loss')\n",
        "plt.show()"
      ],
      "execution_count": 170,
      "outputs": [
        {
          "output_type": "display_data",
          "data": {
            "image/png": "[encoded data removed]",
            "text/plain": [
              "<Figure size 432x288 with 1 Axes>"
            ]
          },
          "metadata": {
            "needs_background": "light"
          }
        }
      ]
    }
  ]
}