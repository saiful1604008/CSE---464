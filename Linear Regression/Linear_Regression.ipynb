{
  "nbformat": 4,
  "nbformat_minor": 0,
  "metadata": {
    "colab": {
      "name": "Linear_Regression.ipynb",
      "provenance": [],
      "collapsed_sections": []
    },
    "kernelspec": {
      "name": "python3",
      "display_name": "Python 3"
    },
    "language_info": {
      "name": "python"
    }
  },
  "cells": [
    {
      "cell_type": "code",
      "metadata": {
        "id": "J2SxdUwnPUzU"
      },
      "source": [
        "import numpy as np \n",
        "import pandas as pd"
      ],
      "execution_count": 15,
      "outputs": []
    },
    {
      "cell_type": "code",
      "metadata": {
        "id": "i3rRzYhOP93x"
      },
      "source": [
        "data = pd.read_csv('/content/drive/MyDrive/Dataset_depression/Dataset.csv')"
      ],
      "execution_count": 16,
      "outputs": []
    },
    {
      "cell_type": "code",
      "metadata": {
        "colab": {
          "base_uri": "https://localhost:8080/"
        },
        "id": "ZRX4ETwQRYlW",
        "outputId": "6c404246-487c-46d0-8040-b9d896e23650"
      },
      "source": [
        "print(data)"
      ],
      "execution_count": 17,
      "outputs": [
        {
          "output_type": "stream",
          "name": "stdout",
          "text": [
            "                       Timestamp  ... How long did you sleep last night?(in hours)\n",
            "0    2020/12/03 3:26:01 PM GMT+6  ...                                            7\n",
            "1    2020/12/03 6:25:04 PM GMT+6  ...                                            7\n",
            "2    2020/12/04 5:40:40 PM GMT+6  ...                                            7\n",
            "3    2020/12/04 8:43:29 PM GMT+6  ...                                            7\n",
            "4    2020/12/05 4:14:34 PM GMT+6  ...                                            7\n",
            "..                           ...  ...                                          ...\n",
            "699  2021/01/30 4:47:47 PM GMT+6  ...                                            8\n",
            "700  2021/01/30 4:47:54 PM GMT+6  ...                                            9\n",
            "701  2021/01/30 4:48:01 PM GMT+6  ...                                            8\n",
            "702  2021/01/30 4:48:09 PM GMT+6  ...                                           10\n",
            "703  2021/01/30 4:48:15 PM GMT+6  ...                                            8\n",
            "\n",
            "[704 rows x 21 columns]\n"
          ]
        }
      ]
    },
    {
      "cell_type": "code",
      "metadata": {
        "colab": {
          "base_uri": "https://localhost:8080/",
          "height": 462
        },
        "id": "2Z3yYDMIRdVw",
        "outputId": "d5ef6ca0-9927-4681-f95a-3eb2a1e8a636"
      },
      "source": [
        "data.drop(['Timestamp'], axis = 1, inplace = True)\n",
        "data.head()"
      ],
      "execution_count": 18,
      "outputs": [
        {
          "output_type": "execute_result",
          "data": {
            "text/html": [
              "<div>\n",
              "<style scoped>\n",
              "    .dataframe tbody tr th:only-of-type {\n",
              "        vertical-align: middle;\n",
              "    }\n",
              "\n",
              "    .dataframe tbody tr th {\n",
              "        vertical-align: top;\n",
              "    }\n",
              "\n",
              "    .dataframe thead th {\n",
              "        text-align: right;\n",
              "    }\n",
              "</style>\n",
              "<table border=\"1\" class=\"dataframe\">\n",
              "  <thead>\n",
              "    <tr style=\"text-align: right;\">\n",
              "      <th></th>\n",
              "      <th>Which year are you in?</th>\n",
              "      <th>How are you feeling right now?</th>\n",
              "      <th>On a scale of 1-100, how would you express this feeling?</th>\n",
              "      <th>Gender</th>\n",
              "      <th>Age</th>\n",
              "      <th>Your location ?</th>\n",
              "      <th>Relationship status</th>\n",
              "      <th>Are you happy with your financial state?</th>\n",
              "      <th>How much have you succeeded to cope up with the environment of your educational institution?</th>\n",
              "      <th>Understanding with your family members?</th>\n",
              "      <th>Are you feeling pressure in your study or work right now?</th>\n",
              "      <th>Are you satisfied with your academic result?</th>\n",
              "      <th>Are you happy with your living place?</th>\n",
              "      <th>Who supports you when you are not succeeding in your academic life?</th>\n",
              "      <th>Have you used any social media within the last 6 hours?</th>\n",
              "      <th>Do you have inferiority complex?</th>\n",
              "      <th>Are you satisfied with your meal today?</th>\n",
              "      <th>Are you feeling sick/health issues today?</th>\n",
              "      <th>Have you done any recreational activity (sports, gaming, hobby etc.) today?</th>\n",
              "      <th>How long did you sleep last night?(in hours)</th>\n",
              "    </tr>\n",
              "  </thead>\n",
              "  <tbody>\n",
              "    <tr>\n",
              "      <th>0</th>\n",
              "      <td>4th year</td>\n",
              "      <td>Normal</td>\n",
              "      <td>50</td>\n",
              "      <td>Male</td>\n",
              "      <td>23</td>\n",
              "      <td>Home</td>\n",
              "      <td>Single</td>\n",
              "      <td>Yes</td>\n",
              "      <td>4</td>\n",
              "      <td>Normal</td>\n",
              "      <td>No</td>\n",
              "      <td>Yes</td>\n",
              "      <td>No</td>\n",
              "      <td>Family</td>\n",
              "      <td>Yes</td>\n",
              "      <td>No</td>\n",
              "      <td>Yes</td>\n",
              "      <td>No</td>\n",
              "      <td>No</td>\n",
              "      <td>7</td>\n",
              "    </tr>\n",
              "    <tr>\n",
              "      <th>1</th>\n",
              "      <td>4th year</td>\n",
              "      <td>Normal</td>\n",
              "      <td>40</td>\n",
              "      <td>Male</td>\n",
              "      <td>23</td>\n",
              "      <td>Home</td>\n",
              "      <td>Single</td>\n",
              "      <td>Yes</td>\n",
              "      <td>4</td>\n",
              "      <td>Normal</td>\n",
              "      <td>Yes</td>\n",
              "      <td>Yes</td>\n",
              "      <td>No</td>\n",
              "      <td>Family</td>\n",
              "      <td>Yes</td>\n",
              "      <td>No</td>\n",
              "      <td>Yes</td>\n",
              "      <td>No</td>\n",
              "      <td>No</td>\n",
              "      <td>7</td>\n",
              "    </tr>\n",
              "    <tr>\n",
              "      <th>2</th>\n",
              "      <td>4th year</td>\n",
              "      <td>Bad</td>\n",
              "      <td>50</td>\n",
              "      <td>Male</td>\n",
              "      <td>23</td>\n",
              "      <td>Home</td>\n",
              "      <td>Single</td>\n",
              "      <td>Yes</td>\n",
              "      <td>4</td>\n",
              "      <td>Normal</td>\n",
              "      <td>Yes</td>\n",
              "      <td>Yes</td>\n",
              "      <td>No</td>\n",
              "      <td>Family</td>\n",
              "      <td>Yes</td>\n",
              "      <td>No</td>\n",
              "      <td>Yes</td>\n",
              "      <td>No</td>\n",
              "      <td>No</td>\n",
              "      <td>7</td>\n",
              "    </tr>\n",
              "    <tr>\n",
              "      <th>3</th>\n",
              "      <td>4th year</td>\n",
              "      <td>Normal</td>\n",
              "      <td>45</td>\n",
              "      <td>Male</td>\n",
              "      <td>23</td>\n",
              "      <td>Home</td>\n",
              "      <td>Single</td>\n",
              "      <td>Yes</td>\n",
              "      <td>4</td>\n",
              "      <td>Normal</td>\n",
              "      <td>No</td>\n",
              "      <td>Yes</td>\n",
              "      <td>No</td>\n",
              "      <td>Family</td>\n",
              "      <td>Yes</td>\n",
              "      <td>No</td>\n",
              "      <td>Yes</td>\n",
              "      <td>No</td>\n",
              "      <td>No</td>\n",
              "      <td>7</td>\n",
              "    </tr>\n",
              "    <tr>\n",
              "      <th>4</th>\n",
              "      <td>4th year</td>\n",
              "      <td>Normal</td>\n",
              "      <td>50</td>\n",
              "      <td>Male</td>\n",
              "      <td>23</td>\n",
              "      <td>Home</td>\n",
              "      <td>Single</td>\n",
              "      <td>Yes</td>\n",
              "      <td>4</td>\n",
              "      <td>Normal</td>\n",
              "      <td>Yes</td>\n",
              "      <td>Yes</td>\n",
              "      <td>Yes</td>\n",
              "      <td>Family</td>\n",
              "      <td>Yes</td>\n",
              "      <td>No</td>\n",
              "      <td>Yes</td>\n",
              "      <td>No</td>\n",
              "      <td>No</td>\n",
              "      <td>7</td>\n",
              "    </tr>\n",
              "  </tbody>\n",
              "</table>\n",
              "</div>"
            ],
            "text/plain": [
              "  Which year are you in?  ... How long did you sleep last night?(in hours)\n",
              "0               4th year  ...                                            7\n",
              "1               4th year  ...                                            7\n",
              "2               4th year  ...                                            7\n",
              "3               4th year  ...                                            7\n",
              "4               4th year  ...                                            7\n",
              "\n",
              "[5 rows x 20 columns]"
            ]
          },
          "metadata": {},
          "execution_count": 18
        }
      ]
    },
    {
      "cell_type": "code",
      "metadata": {
        "colab": {
          "base_uri": "https://localhost:8080/"
        },
        "id": "qMkZi6YSRjf-",
        "outputId": "977ee082-56b7-47ff-fbe3-3e56d991a8bb"
      },
      "source": [
        "data.info()"
      ],
      "execution_count": 19,
      "outputs": [
        {
          "output_type": "stream",
          "name": "stdout",
          "text": [
            "<class 'pandas.core.frame.DataFrame'>\n",
            "RangeIndex: 704 entries, 0 to 703\n",
            "Data columns (total 20 columns):\n",
            " #   Column                                                                                        Non-Null Count  Dtype \n",
            "---  ------                                                                                        --------------  ----- \n",
            " 0   Which year are you in?                                                                        704 non-null    object\n",
            " 1   How are you feeling right now?                                                                704 non-null    object\n",
            " 2   On a scale of 1-100, how would you express this feeling?                                      704 non-null    int64 \n",
            " 3   Gender                                                                                        704 non-null    object\n",
            " 4   Age                                                                                           704 non-null    int64 \n",
            " 5   Your location ?                                                                               704 non-null    object\n",
            " 6   Relationship status                                                                           704 non-null    object\n",
            " 7   Are you happy with your financial state?                                                      704 non-null    object\n",
            " 8   How much have you succeeded to cope up with the environment of your educational institution?  704 non-null    int64 \n",
            " 9   Understanding with your family members?                                                       704 non-null    object\n",
            " 10  Are you feeling pressure in your study or work right now?                                     704 non-null    object\n",
            " 11  Are you satisfied with your academic result?                                                  704 non-null    object\n",
            " 12  Are you happy with your living place?                                                         704 non-null    object\n",
            " 13  Who supports you when you are not succeeding in your academic life?                           703 non-null    object\n",
            " 14  Have you used any social media within the last 6 hours?                                       704 non-null    object\n",
            " 15  Do you have inferiority complex?                                                              704 non-null    object\n",
            " 16  Are you satisfied with your meal today?                                                       704 non-null    object\n",
            " 17  Are you feeling sick/health issues today?                                                     704 non-null    object\n",
            " 18  Have you done any recreational activity (sports, gaming, hobby etc.) today?                   704 non-null    object\n",
            " 19  How long did you sleep last night?(in hours)                                                  704 non-null    int64 \n",
            "dtypes: int64(4), object(16)\n",
            "memory usage: 110.1+ KB\n"
          ]
        }
      ]
    },
    {
      "cell_type": "code",
      "metadata": {
        "id": "wma4k9j0Rpgn"
      },
      "source": [
        "new_data = data.dropna(axis = 0)"
      ],
      "execution_count": 20,
      "outputs": []
    },
    {
      "cell_type": "code",
      "metadata": {
        "colab": {
          "base_uri": "https://localhost:8080/"
        },
        "id": "FzJq2RuuRxW9",
        "outputId": "b0064a70-045a-459a-a8c0-f36358cf2e84"
      },
      "source": [
        "new_data.shape"
      ],
      "execution_count": 21,
      "outputs": [
        {
          "output_type": "execute_result",
          "data": {
            "text/plain": [
              "(703, 20)"
            ]
          },
          "metadata": {},
          "execution_count": 21
        }
      ]
    },
    {
      "cell_type": "code",
      "metadata": {
        "colab": {
          "base_uri": "https://localhost:8080/"
        },
        "id": "M8qH8vq9Rz2-",
        "outputId": "34ef38f4-fd04-44df-a840-0386ea384013"
      },
      "source": [
        "new_data.info()"
      ],
      "execution_count": 22,
      "outputs": [
        {
          "output_type": "stream",
          "name": "stdout",
          "text": [
            "<class 'pandas.core.frame.DataFrame'>\n",
            "Int64Index: 703 entries, 0 to 703\n",
            "Data columns (total 20 columns):\n",
            " #   Column                                                                                        Non-Null Count  Dtype \n",
            "---  ------                                                                                        --------------  ----- \n",
            " 0   Which year are you in?                                                                        703 non-null    object\n",
            " 1   How are you feeling right now?                                                                703 non-null    object\n",
            " 2   On a scale of 1-100, how would you express this feeling?                                      703 non-null    int64 \n",
            " 3   Gender                                                                                        703 non-null    object\n",
            " 4   Age                                                                                           703 non-null    int64 \n",
            " 5   Your location ?                                                                               703 non-null    object\n",
            " 6   Relationship status                                                                           703 non-null    object\n",
            " 7   Are you happy with your financial state?                                                      703 non-null    object\n",
            " 8   How much have you succeeded to cope up with the environment of your educational institution?  703 non-null    int64 \n",
            " 9   Understanding with your family members?                                                       703 non-null    object\n",
            " 10  Are you feeling pressure in your study or work right now?                                     703 non-null    object\n",
            " 11  Are you satisfied with your academic result?                                                  703 non-null    object\n",
            " 12  Are you happy with your living place?                                                         703 non-null    object\n",
            " 13  Who supports you when you are not succeeding in your academic life?                           703 non-null    object\n",
            " 14  Have you used any social media within the last 6 hours?                                       703 non-null    object\n",
            " 15  Do you have inferiority complex?                                                              703 non-null    object\n",
            " 16  Are you satisfied with your meal today?                                                       703 non-null    object\n",
            " 17  Are you feeling sick/health issues today?                                                     703 non-null    object\n",
            " 18  Have you done any recreational activity (sports, gaming, hobby etc.) today?                   703 non-null    object\n",
            " 19  How long did you sleep last night?(in hours)                                                  703 non-null    int64 \n",
            "dtypes: int64(4), object(16)\n",
            "memory usage: 115.3+ KB\n"
          ]
        }
      ]
    },
    {
      "cell_type": "code",
      "metadata": {
        "colab": {
          "base_uri": "https://localhost:8080/",
          "height": 314
        },
        "id": "wKqNgG9ZR34S",
        "outputId": "dcf699ae-432c-4c3c-9f00-ba6baecec435"
      },
      "source": [
        "new_data.describe()"
      ],
      "execution_count": 23,
      "outputs": [
        {
          "output_type": "execute_result",
          "data": {
            "text/html": [
              "<div>\n",
              "<style scoped>\n",
              "    .dataframe tbody tr th:only-of-type {\n",
              "        vertical-align: middle;\n",
              "    }\n",
              "\n",
              "    .dataframe tbody tr th {\n",
              "        vertical-align: top;\n",
              "    }\n",
              "\n",
              "    .dataframe thead th {\n",
              "        text-align: right;\n",
              "    }\n",
              "</style>\n",
              "<table border=\"1\" class=\"dataframe\">\n",
              "  <thead>\n",
              "    <tr style=\"text-align: right;\">\n",
              "      <th></th>\n",
              "      <th>On a scale of 1-100, how would you express this feeling?</th>\n",
              "      <th>Age</th>\n",
              "      <th>How much have you succeeded to cope up with the environment of your educational institution?</th>\n",
              "      <th>How long did you sleep last night?(in hours)</th>\n",
              "    </tr>\n",
              "  </thead>\n",
              "  <tbody>\n",
              "    <tr>\n",
              "      <th>count</th>\n",
              "      <td>703.000000</td>\n",
              "      <td>703.0</td>\n",
              "      <td>703.000000</td>\n",
              "      <td>703.000000</td>\n",
              "    </tr>\n",
              "    <tr>\n",
              "      <th>mean</th>\n",
              "      <td>56.204836</td>\n",
              "      <td>23.0</td>\n",
              "      <td>3.257468</td>\n",
              "      <td>6.807966</td>\n",
              "    </tr>\n",
              "    <tr>\n",
              "      <th>std</th>\n",
              "      <td>30.223491</td>\n",
              "      <td>0.0</td>\n",
              "      <td>1.254279</td>\n",
              "      <td>1.957917</td>\n",
              "    </tr>\n",
              "    <tr>\n",
              "      <th>min</th>\n",
              "      <td>1.000000</td>\n",
              "      <td>23.0</td>\n",
              "      <td>1.000000</td>\n",
              "      <td>3.000000</td>\n",
              "    </tr>\n",
              "    <tr>\n",
              "      <th>25%</th>\n",
              "      <td>30.000000</td>\n",
              "      <td>23.0</td>\n",
              "      <td>2.000000</td>\n",
              "      <td>6.000000</td>\n",
              "    </tr>\n",
              "    <tr>\n",
              "      <th>50%</th>\n",
              "      <td>59.000000</td>\n",
              "      <td>23.0</td>\n",
              "      <td>3.000000</td>\n",
              "      <td>7.000000</td>\n",
              "    </tr>\n",
              "    <tr>\n",
              "      <th>75%</th>\n",
              "      <td>85.000000</td>\n",
              "      <td>23.0</td>\n",
              "      <td>4.000000</td>\n",
              "      <td>8.000000</td>\n",
              "    </tr>\n",
              "    <tr>\n",
              "      <th>max</th>\n",
              "      <td>100.000000</td>\n",
              "      <td>23.0</td>\n",
              "      <td>5.000000</td>\n",
              "      <td>10.000000</td>\n",
              "    </tr>\n",
              "  </tbody>\n",
              "</table>\n",
              "</div>"
            ],
            "text/plain": [
              "       On a scale of 1-100, how would you express this feeling?  ...  How long did you sleep last night?(in hours)\n",
              "count                                         703.000000         ...                                    703.000000\n",
              "mean                                           56.204836         ...                                      6.807966\n",
              "std                                            30.223491         ...                                      1.957917\n",
              "min                                             1.000000         ...                                      3.000000\n",
              "25%                                            30.000000         ...                                      6.000000\n",
              "50%                                            59.000000         ...                                      7.000000\n",
              "75%                                            85.000000         ...                                      8.000000\n",
              "max                                           100.000000         ...                                     10.000000\n",
              "\n",
              "[8 rows x 4 columns]"
            ]
          },
          "metadata": {},
          "execution_count": 23
        }
      ]
    },
    {
      "cell_type": "code",
      "metadata": {
        "colab": {
          "base_uri": "https://localhost:8080/"
        },
        "id": "WbY0UUttSCYS",
        "outputId": "e990c573-124b-46da-98ac-6b171536083e"
      },
      "source": [
        "question = new_data.columns\n",
        "question"
      ],
      "execution_count": 24,
      "outputs": [
        {
          "output_type": "execute_result",
          "data": {
            "text/plain": [
              "Index(['Which year are you in?', 'How are you feeling right now?',\n",
              "       'On a scale of 1-100, how would you express this feeling?', 'Gender',\n",
              "       'Age', 'Your location ?', 'Relationship status',\n",
              "       'Are you happy with your financial state?',\n",
              "       'How much have you succeeded to cope up with the environment of your educational institution?',\n",
              "       'Understanding with your family members?',\n",
              "       'Are you feeling pressure in your study or work right now?',\n",
              "       'Are you satisfied with your academic result?',\n",
              "       'Are you happy with your living place?',\n",
              "       'Who supports you when you are not succeeding in your academic life?',\n",
              "       'Have you used any social media within the last 6 hours?',\n",
              "       'Do you have inferiority complex? ',\n",
              "       'Are you satisfied with your meal today?',\n",
              "       'Are you feeling sick/health issues today?',\n",
              "       'Have you done any recreational activity (sports, gaming, hobby etc.) today?',\n",
              "       'How long did you sleep last night?(in hours)'],\n",
              "      dtype='object')"
            ]
          },
          "metadata": {},
          "execution_count": 24
        }
      ]
    },
    {
      "cell_type": "code",
      "metadata": {
        "id": "x3gPzzCMSNkh"
      },
      "source": [
        "data1 = new_data.copy()"
      ],
      "execution_count": 25,
      "outputs": []
    },
    {
      "cell_type": "markdown",
      "metadata": {
        "id": "dlao_E3BSxD2"
      },
      "source": [
        "**Encoding data**"
      ]
    },
    {
      "cell_type": "code",
      "metadata": {
        "colab": {
          "base_uri": "https://localhost:8080/",
          "height": 592
        },
        "id": "GkRG_HGbSS80",
        "outputId": "8dbb9ab1-d5d5-4448-f745-0dd9149c4508"
      },
      "source": [
        "from sklearn.preprocessing import LabelEncoder\n",
        "encoder = LabelEncoder()\n",
        "data1 = new_data.apply(LabelEncoder().fit_transform)\n",
        "data1\n"
      ],
      "execution_count": 26,
      "outputs": [
        {
          "output_type": "execute_result",
          "data": {
            "text/html": [
              "<div>\n",
              "<style scoped>\n",
              "    .dataframe tbody tr th:only-of-type {\n",
              "        vertical-align: middle;\n",
              "    }\n",
              "\n",
              "    .dataframe tbody tr th {\n",
              "        vertical-align: top;\n",
              "    }\n",
              "\n",
              "    .dataframe thead th {\n",
              "        text-align: right;\n",
              "    }\n",
              "</style>\n",
              "<table border=\"1\" class=\"dataframe\">\n",
              "  <thead>\n",
              "    <tr style=\"text-align: right;\">\n",
              "      <th></th>\n",
              "      <th>Which year are you in?</th>\n",
              "      <th>How are you feeling right now?</th>\n",
              "      <th>On a scale of 1-100, how would you express this feeling?</th>\n",
              "      <th>Gender</th>\n",
              "      <th>Age</th>\n",
              "      <th>Your location ?</th>\n",
              "      <th>Relationship status</th>\n",
              "      <th>Are you happy with your financial state?</th>\n",
              "      <th>How much have you succeeded to cope up with the environment of your educational institution?</th>\n",
              "      <th>Understanding with your family members?</th>\n",
              "      <th>Are you feeling pressure in your study or work right now?</th>\n",
              "      <th>Are you satisfied with your academic result?</th>\n",
              "      <th>Are you happy with your living place?</th>\n",
              "      <th>Who supports you when you are not succeeding in your academic life?</th>\n",
              "      <th>Have you used any social media within the last 6 hours?</th>\n",
              "      <th>Do you have inferiority complex?</th>\n",
              "      <th>Are you satisfied with your meal today?</th>\n",
              "      <th>Are you feeling sick/health issues today?</th>\n",
              "      <th>Have you done any recreational activity (sports, gaming, hobby etc.) today?</th>\n",
              "      <th>How long did you sleep last night?(in hours)</th>\n",
              "    </tr>\n",
              "  </thead>\n",
              "  <tbody>\n",
              "    <tr>\n",
              "      <th>0</th>\n",
              "      <td>0</td>\n",
              "      <td>2</td>\n",
              "      <td>49</td>\n",
              "      <td>0</td>\n",
              "      <td>0</td>\n",
              "      <td>2</td>\n",
              "      <td>0</td>\n",
              "      <td>1</td>\n",
              "      <td>3</td>\n",
              "      <td>2</td>\n",
              "      <td>0</td>\n",
              "      <td>1</td>\n",
              "      <td>0</td>\n",
              "      <td>0</td>\n",
              "      <td>0</td>\n",
              "      <td>1</td>\n",
              "      <td>2</td>\n",
              "      <td>0</td>\n",
              "      <td>0</td>\n",
              "      <td>4</td>\n",
              "    </tr>\n",
              "    <tr>\n",
              "      <th>1</th>\n",
              "      <td>0</td>\n",
              "      <td>2</td>\n",
              "      <td>39</td>\n",
              "      <td>0</td>\n",
              "      <td>0</td>\n",
              "      <td>2</td>\n",
              "      <td>0</td>\n",
              "      <td>1</td>\n",
              "      <td>3</td>\n",
              "      <td>2</td>\n",
              "      <td>1</td>\n",
              "      <td>1</td>\n",
              "      <td>0</td>\n",
              "      <td>0</td>\n",
              "      <td>0</td>\n",
              "      <td>1</td>\n",
              "      <td>2</td>\n",
              "      <td>0</td>\n",
              "      <td>0</td>\n",
              "      <td>4</td>\n",
              "    </tr>\n",
              "    <tr>\n",
              "      <th>2</th>\n",
              "      <td>0</td>\n",
              "      <td>0</td>\n",
              "      <td>49</td>\n",
              "      <td>0</td>\n",
              "      <td>0</td>\n",
              "      <td>2</td>\n",
              "      <td>0</td>\n",
              "      <td>1</td>\n",
              "      <td>3</td>\n",
              "      <td>2</td>\n",
              "      <td>1</td>\n",
              "      <td>1</td>\n",
              "      <td>0</td>\n",
              "      <td>0</td>\n",
              "      <td>0</td>\n",
              "      <td>1</td>\n",
              "      <td>2</td>\n",
              "      <td>0</td>\n",
              "      <td>0</td>\n",
              "      <td>4</td>\n",
              "    </tr>\n",
              "    <tr>\n",
              "      <th>3</th>\n",
              "      <td>0</td>\n",
              "      <td>2</td>\n",
              "      <td>44</td>\n",
              "      <td>0</td>\n",
              "      <td>0</td>\n",
              "      <td>2</td>\n",
              "      <td>0</td>\n",
              "      <td>1</td>\n",
              "      <td>3</td>\n",
              "      <td>2</td>\n",
              "      <td>0</td>\n",
              "      <td>1</td>\n",
              "      <td>0</td>\n",
              "      <td>0</td>\n",
              "      <td>0</td>\n",
              "      <td>1</td>\n",
              "      <td>2</td>\n",
              "      <td>0</td>\n",
              "      <td>0</td>\n",
              "      <td>4</td>\n",
              "    </tr>\n",
              "    <tr>\n",
              "      <th>4</th>\n",
              "      <td>0</td>\n",
              "      <td>2</td>\n",
              "      <td>49</td>\n",
              "      <td>0</td>\n",
              "      <td>0</td>\n",
              "      <td>2</td>\n",
              "      <td>0</td>\n",
              "      <td>1</td>\n",
              "      <td>3</td>\n",
              "      <td>2</td>\n",
              "      <td>1</td>\n",
              "      <td>1</td>\n",
              "      <td>1</td>\n",
              "      <td>0</td>\n",
              "      <td>0</td>\n",
              "      <td>1</td>\n",
              "      <td>2</td>\n",
              "      <td>0</td>\n",
              "      <td>0</td>\n",
              "      <td>4</td>\n",
              "    </tr>\n",
              "    <tr>\n",
              "      <th>...</th>\n",
              "      <td>...</td>\n",
              "      <td>...</td>\n",
              "      <td>...</td>\n",
              "      <td>...</td>\n",
              "      <td>...</td>\n",
              "      <td>...</td>\n",
              "      <td>...</td>\n",
              "      <td>...</td>\n",
              "      <td>...</td>\n",
              "      <td>...</td>\n",
              "      <td>...</td>\n",
              "      <td>...</td>\n",
              "      <td>...</td>\n",
              "      <td>...</td>\n",
              "      <td>...</td>\n",
              "      <td>...</td>\n",
              "      <td>...</td>\n",
              "      <td>...</td>\n",
              "      <td>...</td>\n",
              "      <td>...</td>\n",
              "    </tr>\n",
              "    <tr>\n",
              "      <th>699</th>\n",
              "      <td>0</td>\n",
              "      <td>2</td>\n",
              "      <td>61</td>\n",
              "      <td>0</td>\n",
              "      <td>0</td>\n",
              "      <td>3</td>\n",
              "      <td>0</td>\n",
              "      <td>1</td>\n",
              "      <td>4</td>\n",
              "      <td>2</td>\n",
              "      <td>0</td>\n",
              "      <td>0</td>\n",
              "      <td>0</td>\n",
              "      <td>1</td>\n",
              "      <td>0</td>\n",
              "      <td>0</td>\n",
              "      <td>2</td>\n",
              "      <td>0</td>\n",
              "      <td>0</td>\n",
              "      <td>5</td>\n",
              "    </tr>\n",
              "    <tr>\n",
              "      <th>700</th>\n",
              "      <td>0</td>\n",
              "      <td>4</td>\n",
              "      <td>89</td>\n",
              "      <td>0</td>\n",
              "      <td>0</td>\n",
              "      <td>3</td>\n",
              "      <td>0</td>\n",
              "      <td>1</td>\n",
              "      <td>4</td>\n",
              "      <td>2</td>\n",
              "      <td>0</td>\n",
              "      <td>0</td>\n",
              "      <td>1</td>\n",
              "      <td>0</td>\n",
              "      <td>0</td>\n",
              "      <td>1</td>\n",
              "      <td>0</td>\n",
              "      <td>0</td>\n",
              "      <td>1</td>\n",
              "      <td>6</td>\n",
              "    </tr>\n",
              "    <tr>\n",
              "      <th>701</th>\n",
              "      <td>0</td>\n",
              "      <td>4</td>\n",
              "      <td>91</td>\n",
              "      <td>0</td>\n",
              "      <td>0</td>\n",
              "      <td>1</td>\n",
              "      <td>0</td>\n",
              "      <td>1</td>\n",
              "      <td>4</td>\n",
              "      <td>2</td>\n",
              "      <td>0</td>\n",
              "      <td>1</td>\n",
              "      <td>1</td>\n",
              "      <td>0</td>\n",
              "      <td>0</td>\n",
              "      <td>1</td>\n",
              "      <td>2</td>\n",
              "      <td>0</td>\n",
              "      <td>0</td>\n",
              "      <td>5</td>\n",
              "    </tr>\n",
              "    <tr>\n",
              "      <th>702</th>\n",
              "      <td>0</td>\n",
              "      <td>4</td>\n",
              "      <td>98</td>\n",
              "      <td>0</td>\n",
              "      <td>0</td>\n",
              "      <td>3</td>\n",
              "      <td>0</td>\n",
              "      <td>1</td>\n",
              "      <td>3</td>\n",
              "      <td>1</td>\n",
              "      <td>0</td>\n",
              "      <td>1</td>\n",
              "      <td>1</td>\n",
              "      <td>1</td>\n",
              "      <td>0</td>\n",
              "      <td>1</td>\n",
              "      <td>2</td>\n",
              "      <td>0</td>\n",
              "      <td>1</td>\n",
              "      <td>7</td>\n",
              "    </tr>\n",
              "    <tr>\n",
              "      <th>703</th>\n",
              "      <td>0</td>\n",
              "      <td>1</td>\n",
              "      <td>85</td>\n",
              "      <td>0</td>\n",
              "      <td>0</td>\n",
              "      <td>1</td>\n",
              "      <td>0</td>\n",
              "      <td>1</td>\n",
              "      <td>4</td>\n",
              "      <td>2</td>\n",
              "      <td>0</td>\n",
              "      <td>0</td>\n",
              "      <td>1</td>\n",
              "      <td>0</td>\n",
              "      <td>0</td>\n",
              "      <td>1</td>\n",
              "      <td>2</td>\n",
              "      <td>0</td>\n",
              "      <td>0</td>\n",
              "      <td>5</td>\n",
              "    </tr>\n",
              "  </tbody>\n",
              "</table>\n",
              "<p>703 rows × 20 columns</p>\n",
              "</div>"
            ],
            "text/plain": [
              "     Which year are you in?  ...  How long did you sleep last night?(in hours)\n",
              "0                         0  ...                                             4\n",
              "1                         0  ...                                             4\n",
              "2                         0  ...                                             4\n",
              "3                         0  ...                                             4\n",
              "4                         0  ...                                             4\n",
              "..                      ...  ...                                           ...\n",
              "699                       0  ...                                             5\n",
              "700                       0  ...                                             6\n",
              "701                       0  ...                                             5\n",
              "702                       0  ...                                             7\n",
              "703                       0  ...                                             5\n",
              "\n",
              "[703 rows x 20 columns]"
            ]
          },
          "metadata": {},
          "execution_count": 26
        }
      ]
    },
    {
      "cell_type": "code",
      "metadata": {
        "colab": {
          "base_uri": "https://localhost:8080/"
        },
        "id": "ROYivr8ySbWc",
        "outputId": "ca14809f-188d-4b5b-8a0c-b42169b3f8d7"
      },
      "source": [
        "correlation_matrix = data1.corr()\n",
        "correlation_matrix['On a scale of 1-100, how would you express this feeling?'].sort_values(ascending = False)"
      ],
      "execution_count": 27,
      "outputs": [
        {
          "output_type": "execute_result",
          "data": {
            "text/plain": [
              "On a scale of 1-100, how would you express this feeling?                                        1.000000\n",
              "How long did you sleep last night?(in hours)                                                    0.749421\n",
              "How much have you succeeded to cope up with the environment of your educational institution?    0.652036\n",
              "Are you happy with your financial state?                                                        0.462862\n",
              "Are you happy with your living place?                                                           0.435309\n",
              "Understanding with your family members?                                                         0.251391\n",
              "How are you feeling right now?                                                                  0.234482\n",
              "Your location ?                                                                                 0.045195\n",
              "Are you satisfied with your academic result?                                                    0.040919\n",
              "Have you done any recreational activity (sports, gaming, hobby etc.) today?                     0.013519\n",
              "Are you satisfied with your meal today?                                                         0.013517\n",
              "Who supports you when you are not succeeding in your academic life?                             0.009562\n",
              "Do you have inferiority complex?                                                               -0.040643\n",
              "Are you feeling sick/health issues today?                                                      -0.445957\n",
              "Are you feeling pressure in your study or work right now?                                      -0.826047\n",
              "Which year are you in?                                                                               NaN\n",
              "Gender                                                                                               NaN\n",
              "Age                                                                                                  NaN\n",
              "Relationship status                                                                                  NaN\n",
              "Have you used any social media within the last 6 hours?                                              NaN\n",
              "Name: On a scale of 1-100, how would you express this feeling?, dtype: float64"
            ]
          },
          "metadata": {},
          "execution_count": 27
        }
      ]
    },
    {
      "cell_type": "code",
      "metadata": {
        "colab": {
          "base_uri": "https://localhost:8080/",
          "height": 700
        },
        "id": "-yn0P3pHipBO",
        "outputId": "3166c790-600e-4ec6-f8b7-034da11240e5"
      },
      "source": [
        "import seaborn as sns\n",
        "sns.heatmap(data1.corr())"
      ],
      "execution_count": 28,
      "outputs": [
        {
          "output_type": "execute_result",
          "data": {
            "text/plain": [
              "<matplotlib.axes._subplots.AxesSubplot at 0x7f12dd6c3350>"
            ]
          },
          "metadata": {},
          "execution_count": 28
        },
        {
          "output_type": "display_data",
          "data": {
            "image/png": "[encoded data removed]",
            "text/plain": [
              "<Figure size 432x288 with 2 Axes>"
            ]
          },
          "metadata": {
            "needs_background": "light"
          }
        }
      ]
    },
    {
      "cell_type": "markdown",
      "metadata": {
        "id": "_Bpjp-_Q0VX_"
      },
      "source": [
        "**Selecting depended and independent variable**"
      ]
    },
    {
      "cell_type": "code",
      "metadata": {
        "id": "QmvbNmcASiSX"
      },
      "source": [
        "y = data1['On a scale of 1-100, how would you express this feeling?']\n",
        "X = data1.drop(['On a scale of 1-100, how would you express this feeling?',\n",
        "                'Gender', 'Age', 'Relationship status', 'Your location ?',\n",
        "                'Have you done any recreational activity (sports, gaming, hobby etc.) today?',\n",
        "                'Are you satisfied with your meal today?', 'Who supports you when you are not succeeding in your academic life?',\n",
        "                'Are you feeling sick/health issues today?','Are you feeling pressure in your study or work right now?',\n",
        "                'Which year are you in?','Have you used any social media within the last 6 hours?'], axis=1)"
      ],
      "execution_count": 29,
      "outputs": []
    },
    {
      "cell_type": "markdown",
      "metadata": {
        "id": "d5FKMPCRS3Yu"
      },
      "source": [
        "**Spliting data for train & validation**"
      ]
    },
    {
      "cell_type": "code",
      "metadata": {
        "id": "o1XG4HYpSrzH"
      },
      "source": [
        "from sklearn.model_selection import train_test_split"
      ],
      "execution_count": 30,
      "outputs": []
    },
    {
      "cell_type": "code",
      "metadata": {
        "id": "kFnDGavJTCRU"
      },
      "source": [
        "X_train, X_valid, y_train, y_valid = train_test_split(X, y, train_size=0.7, test_size=0.3, random_state= 1)"
      ],
      "execution_count": 31,
      "outputs": []
    },
    {
      "cell_type": "code",
      "metadata": {
        "colab": {
          "base_uri": "https://localhost:8080/"
        },
        "id": "rPOCaVNfTGX7",
        "outputId": "fc1819ee-980c-47c3-a163-9e3a92be52c6"
      },
      "source": [
        "print(X_train.shape, X_valid.shape)"
      ],
      "execution_count": 32,
      "outputs": [
        {
          "output_type": "stream",
          "name": "stdout",
          "text": [
            "(492, 8) (211, 8)\n"
          ]
        }
      ]
    },
    {
      "cell_type": "markdown",
      "metadata": {
        "id": "ukXizO0WUacJ"
      },
      "source": [
        "**Linear Regression Model**"
      ]
    },
    {
      "cell_type": "code",
      "metadata": {
        "id": "k2-vKeCjTIT9"
      },
      "source": [
        "from sklearn.linear_model import LinearRegression"
      ],
      "execution_count": 33,
      "outputs": []
    },
    {
      "cell_type": "code",
      "metadata": {
        "colab": {
          "base_uri": "https://localhost:8080/"
        },
        "id": "2Dm43wTxTOMF",
        "outputId": "1282490d-6f92-419b-c95c-6e2d0bee70f0"
      },
      "source": [
        "regressor = LinearRegression()\n",
        "regressor.fit(X_train, y_train)"
      ],
      "execution_count": 34,
      "outputs": [
        {
          "output_type": "execute_result",
          "data": {
            "text/plain": [
              "LinearRegression(copy_X=True, fit_intercept=True, n_jobs=None, normalize=False)"
            ]
          },
          "metadata": {},
          "execution_count": 34
        }
      ]
    },
    {
      "cell_type": "code",
      "metadata": {
        "colab": {
          "base_uri": "https://localhost:8080/",
          "height": 297
        },
        "id": "BvlpaiCiTV8_",
        "outputId": "4fc15003-d8e6-4c3e-a8ac-d2b76a6baafd"
      },
      "source": [
        "coeff = pd.DataFrame(regressor.coef_, X.columns, columns = ['coefficient'])\n",
        "coeff "
      ],
      "execution_count": 35,
      "outputs": [
        {
          "output_type": "execute_result",
          "data": {
            "text/html": [
              "<div>\n",
              "<style scoped>\n",
              "    .dataframe tbody tr th:only-of-type {\n",
              "        vertical-align: middle;\n",
              "    }\n",
              "\n",
              "    .dataframe tbody tr th {\n",
              "        vertical-align: top;\n",
              "    }\n",
              "\n",
              "    .dataframe thead th {\n",
              "        text-align: right;\n",
              "    }\n",
              "</style>\n",
              "<table border=\"1\" class=\"dataframe\">\n",
              "  <thead>\n",
              "    <tr style=\"text-align: right;\">\n",
              "      <th></th>\n",
              "      <th>coefficient</th>\n",
              "    </tr>\n",
              "  </thead>\n",
              "  <tbody>\n",
              "    <tr>\n",
              "      <th>How are you feeling right now?</th>\n",
              "      <td>0.684634</td>\n",
              "    </tr>\n",
              "    <tr>\n",
              "      <th>Are you happy with your financial state?</th>\n",
              "      <td>8.804912</td>\n",
              "    </tr>\n",
              "    <tr>\n",
              "      <th>How much have you succeeded to cope up with the environment of your educational institution?</th>\n",
              "      <td>7.215113</td>\n",
              "    </tr>\n",
              "    <tr>\n",
              "      <th>Understanding with your family members?</th>\n",
              "      <td>2.208328</td>\n",
              "    </tr>\n",
              "    <tr>\n",
              "      <th>Are you satisfied with your academic result?</th>\n",
              "      <td>-2.096774</td>\n",
              "    </tr>\n",
              "    <tr>\n",
              "      <th>Are you happy with your living place?</th>\n",
              "      <td>8.024138</td>\n",
              "    </tr>\n",
              "    <tr>\n",
              "      <th>Do you have inferiority complex?</th>\n",
              "      <td>1.826543</td>\n",
              "    </tr>\n",
              "    <tr>\n",
              "      <th>How long did you sleep last night?(in hours)</th>\n",
              "      <td>7.221519</td>\n",
              "    </tr>\n",
              "  </tbody>\n",
              "</table>\n",
              "</div>"
            ],
            "text/plain": [
              "                                                    coefficient\n",
              "How are you feeling right now?                         0.684634\n",
              "Are you happy with your financial state?               8.804912\n",
              "How much have you succeeded to cope up with the...     7.215113\n",
              "Understanding with your family members?                2.208328\n",
              "Are you satisfied with your academic result?          -2.096774\n",
              "Are you happy with your living place?                  8.024138\n",
              "Do you have inferiority complex?                       1.826543\n",
              "How long did you sleep last night?(in hours)           7.221519"
            ]
          },
          "metadata": {},
          "execution_count": 35
        }
      ]
    },
    {
      "cell_type": "code",
      "metadata": {
        "colab": {
          "base_uri": "https://localhost:8080/"
        },
        "id": "PBzcL7YmTx1-",
        "outputId": "f871d981-13d8-42de-fe14-3e704fe7dff5"
      },
      "source": [
        "alpha = regressor.intercept_\n",
        "alpha"
      ],
      "execution_count": 36,
      "outputs": [
        {
          "output_type": "execute_result",
          "data": {
            "text/plain": [
              "-4.859387117926708"
            ]
          },
          "metadata": {},
          "execution_count": 36
        }
      ]
    },
    {
      "cell_type": "code",
      "metadata": {
        "colab": {
          "base_uri": "https://localhost:8080/"
        },
        "id": "B7MUyHVhT3pA",
        "outputId": "05171569-21fd-41f8-8245-fa1228c2abd3"
      },
      "source": [
        "beta = regressor.coef_\n",
        "beta"
      ],
      "execution_count": 37,
      "outputs": [
        {
          "output_type": "execute_result",
          "data": {
            "text/plain": [
              "array([ 0.68463398,  8.80491163,  7.21511293,  2.20832784, -2.09677363,\n",
              "        8.02413751,  1.82654331,  7.22151913])"
            ]
          },
          "metadata": {},
          "execution_count": 37
        }
      ]
    },
    {
      "cell_type": "code",
      "metadata": {
        "id": "voH3VWOxWhsj"
      },
      "source": [
        "y_pred = regressor.predict(X_valid)"
      ],
      "execution_count": 38,
      "outputs": []
    },
    {
      "cell_type": "code",
      "metadata": {
        "colab": {
          "base_uri": "https://localhost:8080/"
        },
        "id": "UG2js-giWqE0",
        "outputId": "62d34470-7629-4611-9bb8-61f64012669f"
      },
      "source": [
        "y_pred"
      ],
      "execution_count": 39,
      "outputs": [
        {
          "output_type": "execute_result",
          "data": {
            "text/plain": [
              "array([ 31.7677842 ,   0.84760143,  58.96870822,  34.10472886,\n",
              "        47.04965965,  81.62074904,  19.45773836,  91.05059602,\n",
              "        49.78201206,  91.09346771,  55.9513558 ,  88.87873367,\n",
              "        57.2673553 ,  64.99941824,  46.24063507,  60.11702376,\n",
              "        39.30215866,  35.55950454,  65.13021505,  33.87096403,\n",
              "        72.35173418,  74.44850781,  35.46076273,  83.82907688,\n",
              "        83.71111646,  57.00353119,  33.5189921 ,  46.51727159,\n",
              "        47.15925658,  81.62715525,  66.52951831,  85.9194443 ,\n",
              "        88.99669409,  98.30858064,  15.51101503,  67.18411698,\n",
              "        79.56044091,  81.62715525,  78.41853158,  73.86261564,\n",
              "        88.84226818,  39.77648366,  65.81484903,  67.18411698,\n",
              "        45.44444688,  33.28929807,  54.86788764,  88.83586197,\n",
              "        79.56044091,  61.25893309,  28.06156057,  15.62274864,\n",
              "        39.06839383,  88.83586197,  83.87835478,  26.22220485,\n",
              "        71.19701244,  81.78158116,  81.76876875,  88.99669409,\n",
              "        73.53693688,  36.8171943 ,  83.82907688,  62.89843136,\n",
              "        98.15415473,  42.62659776,  14.52628868,  21.98596529,\n",
              "        85.93225671,  83.83548309,  72.34532798, 100.36248257,\n",
              "        93.14096344,  83.82267068,  62.05937147,  59.99263315,\n",
              "        74.44850781,  43.25793931,  25.89207717,  90.9390418 ,\n",
              "        43.2515331 ,  13.79620533,  39.26867295,  74.55365582,\n",
              "        49.249624  ,   5.26425711,  40.15186199,  83.71111646,\n",
              "         9.31342083,  83.87194858,  96.21180702,  64.48887444,\n",
              "        71.82194778,  67.22058247,  81.62715525,  73.02996196,\n",
              "        83.71111646,  64.26769931,  69.39244482,  90.9326356 ,\n",
              "        83.72392887,  45.35471293,  21.20519117,  11.8608409 ,\n",
              "        82.45340272,  13.56283819,  64.21864412,  67.18411698,\n",
              "        52.29959555,  64.26769931,  23.97100531,  26.6065732 ,\n",
              "        53.27808894,   6.77238149,  98.30858064,  50.85483677,\n",
              "        56.58269735,  34.64533195,  62.08940678,  58.06094184,\n",
              "        68.53015179,  67.33213668,  77.32865722,  20.40257279,\n",
              "        81.67002694,  46.24063507,  74.54724961,  11.40378825,\n",
              "        83.82907688,  76.64402324,  67.22698868,  65.12380884,\n",
              "        90.9326356 ,  66.31541774,  52.26057021,  72.35173418,\n",
              "        33.73296123,  41.52112994,  46.48105279,  57.78430531,\n",
              "        67.33213668,  65.13021505,  30.55271945,  73.02996196,\n",
              "        53.5801386 ,  13.99007824,  57.00353119,  35.82973485,\n",
              "        73.64849109,  79.57325332,  31.84046849,  73.02996196,\n",
              "        69.39244482,  11.63755308,  29.19668557,  16.58659682,\n",
              "        72.35173418,  63.98830572,  42.14606528,  76.65683565,\n",
              "        12.71695043,  60.50601428,  83.87194858,  65.12380884,\n",
              "        25.66471854,  43.05766019,  25.08945879,  93.14096344,\n",
              "        69.28089061,  30.02291521,  83.87835478,  29.99325188,\n",
              "        32.26770854,  71.82194778,  13.98749442,  69.2744844 ,\n",
              "        28.62102813,  91.08706151,  34.32161047,  60.00546954,\n",
              "        34.94654581,  70.39439407,  63.17287493,  10.49141753,\n",
              "        88.88513987,  13.33249979,  59.7026201 ,  91.09346771,\n",
              "        39.29575246,  78.70433137,  88.84226818,  23.00549758,\n",
              "        39.44635598,  74.317711  ,  88.88513987,  22.02444434,\n",
              "        72.34532798,  18.44021963,  68.02317687,  81.65721453,\n",
              "        26.37280837,  67.33854289,  57.38531572,  78.69792517,\n",
              "        24.63176177,  24.54626506,  25.58300241,  69.39244482,\n",
              "        85.93225671,  28.04874816,  69.43531652])"
            ]
          },
          "metadata": {},
          "execution_count": 39
        }
      ]
    },
    {
      "cell_type": "code",
      "metadata": {
        "colab": {
          "base_uri": "https://localhost:8080/"
        },
        "id": "RtO3ILhoWtaX",
        "outputId": "abfa4b82-52dd-4042-f626-5951605c436d"
      },
      "source": [
        "from sklearn import metrics\n",
        "print('Mean Absolute Error:', metrics.mean_absolute_error(y_valid, y_pred))\n",
        "print('Mean Squared Error:', metrics.mean_squared_error(y_valid, y_pred))\n",
        "print('Root Mean Squared Error:', np.sqrt(metrics.mean_squared_error(y_valid, y_pred)))"
      ],
      "execution_count": 40,
      "outputs": [
        {
          "output_type": "stream",
          "name": "stdout",
          "text": [
            "Mean Absolute Error: 12.977054971338681\n",
            "Mean Squared Error: 275.23705038179975\n",
            "Root Mean Squared Error: 16.5902697501216\n"
          ]
        }
      ]
    },
    {
      "cell_type": "code",
      "metadata": {
        "id": "Y2ASPRI3YfaL"
      },
      "source": [
        "from sklearn.metrics import r2_score"
      ],
      "execution_count": 41,
      "outputs": []
    },
    {
      "cell_type": "code",
      "metadata": {
        "colab": {
          "base_uri": "https://localhost:8080/"
        },
        "id": "aZ1Dq6faYqTn",
        "outputId": "e4013fbf-9b14-47e1-da15-36b243c9fd8f"
      },
      "source": [
        "r2_score(y_valid, y_pred)"
      ],
      "execution_count": 42,
      "outputs": [
        {
          "output_type": "execute_result",
          "data": {
            "text/plain": [
              "0.6869256249145866"
            ]
          },
          "metadata": {},
          "execution_count": 42
        }
      ]
    },
    {
      "cell_type": "markdown",
      "metadata": {
        "id": "CVFM9Ydg05dv"
      },
      "source": [
        "# Visualizing linear regression "
      ]
    },
    {
      "cell_type": "code",
      "metadata": {
        "id": "rHIcU8kvaWVy"
      },
      "source": [
        "import matplotlib.pyplot as plt\n",
        "import seaborn as sns"
      ],
      "execution_count": 43,
      "outputs": []
    },
    {
      "cell_type": "code",
      "metadata": {
        "colab": {
          "base_uri": "https://localhost:8080/",
          "height": 333
        },
        "id": "jzHHkc5xbdZz",
        "outputId": "4e56c69b-f192-4167-8eac-9aa856e87dc8"
      },
      "source": [
        "sns.regplot(y_valid, y_pred, \n",
        "            scatter_kws={\"color\": \"green\"}, line_kws={\"color\": \"red\"})\n",
        "plt.show()"
      ],
      "execution_count": 44,
      "outputs": [
        {
          "output_type": "stream",
          "name": "stderr",
          "text": [
            "/usr/local/lib/python3.7/dist-packages/seaborn/_decorators.py:43: FutureWarning: Pass the following variables as keyword args: x, y. From version 0.12, the only valid positional argument will be `data`, and passing other arguments without an explicit keyword will result in an error or misinterpretation.\n",
            "  FutureWarning\n"
          ]
        },
        {
          "output_type": "display_data",
          "data": {
            "image/png": "[encoded data removed]",
            "text/plain": [
              "<Figure size 432x288 with 1 Axes>"
            ]
          },
          "metadata": {
            "needs_background": "light"
          }
        }
      ]
    },
    {
      "cell_type": "markdown",
      "metadata": {
        "id": "b3bLaswRNk27"
      },
      "source": [
        "# Ploting Residual Error"
      ]
    },
    {
      "cell_type": "code",
      "metadata": {
        "colab": {
          "base_uri": "https://localhost:8080/",
          "height": 280
        },
        "id": "wi_60n1GJw1W",
        "outputId": "065a3474-9ed2-404b-be86-1875c1e50bca"
      },
      "source": [
        "# plotting residual errors in training data\n",
        "\n",
        "plt.scatter(regressor.predict(X_train), regressor.predict(X_train) - y_train,\n",
        "            color = \"green\", s = 10, label = 'Train data')\n",
        " \n",
        "# plotting residual errors in test data\n",
        "\n",
        "plt.scatter(y_pred, y_pred - y_valid,\n",
        "            color = \"red\", s = 10, label = 'Test data')\n",
        " \n",
        "# plotting line for zero residual error\n",
        "\n",
        "plt.hlines(y = 0, xmin = 0, xmax = 55, linewidth = 4)\n",
        "plt.title(\"Residual errors\")\n",
        "plt.legend(loc = 'upper left')\n",
        "plt.show()"
      ],
      "execution_count": 53,
      "outputs": [
        {
          "output_type": "display_data",
          "data": {
            "image/png": "[encoded data removed]",
            "text/plain": [
              "<Figure size 432x288 with 1 Axes>"
            ]
          },
          "metadata": {
            "needs_background": "light"
          }
        }
      ]
    }
  ]
}