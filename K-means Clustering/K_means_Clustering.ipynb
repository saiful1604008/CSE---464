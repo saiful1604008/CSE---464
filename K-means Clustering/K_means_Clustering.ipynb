{
  "nbformat": 4,
  "nbformat_minor": 0,
  "metadata": {
    "colab": {
      "name": "K- means Clustering.ipynb",
      "provenance": [],
      "collapsed_sections": []
    },
    "kernelspec": {
      "name": "python3",
      "display_name": "Python 3"
    },
    "language_info": {
      "name": "python"
    }
  },
  "cells": [
    {
      "cell_type": "code",
      "metadata": {
        "id": "pQqwF-cvXG6e"
      },
      "source": [
        "import numpy as np \n",
        "import pandas as pd\n",
        "import seaborn as sns\n",
        "import matplotlib.pyplot as plt"
      ],
      "execution_count": 95,
      "outputs": []
    },
    {
      "cell_type": "code",
      "metadata": {
        "colab": {
          "base_uri": "https://localhost:8080/",
          "height": 462
        },
        "id": "i_vL9qgBXj1q",
        "outputId": "8cc7859f-b0c0-4cb0-b98b-fda8c8117368"
      },
      "source": [
        "data = pd.read_csv('/content/drive/MyDrive/Dataset_depression/Dataset.csv')\n",
        "data.drop(['Timestamp'], axis = 1, inplace = True)\n",
        "data.head()"
      ],
      "execution_count": 96,
      "outputs": [
        {
          "output_type": "execute_result",
          "data": {
            "text/html": [
              "<div>\n",
              "<style scoped>\n",
              "    .dataframe tbody tr th:only-of-type {\n",
              "        vertical-align: middle;\n",
              "    }\n",
              "\n",
              "    .dataframe tbody tr th {\n",
              "        vertical-align: top;\n",
              "    }\n",
              "\n",
              "    .dataframe thead th {\n",
              "        text-align: right;\n",
              "    }\n",
              "</style>\n",
              "<table border=\"1\" class=\"dataframe\">\n",
              "  <thead>\n",
              "    <tr style=\"text-align: right;\">\n",
              "      <th></th>\n",
              "      <th>Which year are you in?</th>\n",
              "      <th>How are you feeling right now?</th>\n",
              "      <th>On a scale of 1-100, how would you express this feeling?</th>\n",
              "      <th>Gender</th>\n",
              "      <th>Age</th>\n",
              "      <th>Your location ?</th>\n",
              "      <th>Relationship status</th>\n",
              "      <th>Are you happy with your financial state?</th>\n",
              "      <th>How much have you succeeded to cope up with the environment of your educational institution?</th>\n",
              "      <th>Understanding with your family members?</th>\n",
              "      <th>Are you feeling pressure in your study or work right now?</th>\n",
              "      <th>Are you satisfied with your academic result?</th>\n",
              "      <th>Are you happy with your living place?</th>\n",
              "      <th>Who supports you when you are not succeeding in your academic life?</th>\n",
              "      <th>Have you used any social media within the last 6 hours?</th>\n",
              "      <th>Do you have inferiority complex?</th>\n",
              "      <th>Are you satisfied with your meal today?</th>\n",
              "      <th>Are you feeling sick/health issues today?</th>\n",
              "      <th>Have you done any recreational activity (sports, gaming, hobby etc.) today?</th>\n",
              "      <th>How long did you sleep last night?(in hours)</th>\n",
              "    </tr>\n",
              "  </thead>\n",
              "  <tbody>\n",
              "    <tr>\n",
              "      <th>0</th>\n",
              "      <td>4th year</td>\n",
              "      <td>Normal</td>\n",
              "      <td>50</td>\n",
              "      <td>Male</td>\n",
              "      <td>23</td>\n",
              "      <td>Home</td>\n",
              "      <td>Single</td>\n",
              "      <td>Yes</td>\n",
              "      <td>4</td>\n",
              "      <td>Normal</td>\n",
              "      <td>No</td>\n",
              "      <td>Yes</td>\n",
              "      <td>No</td>\n",
              "      <td>Family</td>\n",
              "      <td>Yes</td>\n",
              "      <td>No</td>\n",
              "      <td>Yes</td>\n",
              "      <td>No</td>\n",
              "      <td>No</td>\n",
              "      <td>7</td>\n",
              "    </tr>\n",
              "    <tr>\n",
              "      <th>1</th>\n",
              "      <td>4th year</td>\n",
              "      <td>Normal</td>\n",
              "      <td>40</td>\n",
              "      <td>Male</td>\n",
              "      <td>23</td>\n",
              "      <td>Home</td>\n",
              "      <td>Single</td>\n",
              "      <td>Yes</td>\n",
              "      <td>4</td>\n",
              "      <td>Normal</td>\n",
              "      <td>Yes</td>\n",
              "      <td>Yes</td>\n",
              "      <td>No</td>\n",
              "      <td>Family</td>\n",
              "      <td>Yes</td>\n",
              "      <td>No</td>\n",
              "      <td>Yes</td>\n",
              "      <td>No</td>\n",
              "      <td>No</td>\n",
              "      <td>7</td>\n",
              "    </tr>\n",
              "    <tr>\n",
              "      <th>2</th>\n",
              "      <td>4th year</td>\n",
              "      <td>Bad</td>\n",
              "      <td>50</td>\n",
              "      <td>Male</td>\n",
              "      <td>23</td>\n",
              "      <td>Home</td>\n",
              "      <td>Single</td>\n",
              "      <td>Yes</td>\n",
              "      <td>4</td>\n",
              "      <td>Normal</td>\n",
              "      <td>Yes</td>\n",
              "      <td>Yes</td>\n",
              "      <td>No</td>\n",
              "      <td>Family</td>\n",
              "      <td>Yes</td>\n",
              "      <td>No</td>\n",
              "      <td>Yes</td>\n",
              "      <td>No</td>\n",
              "      <td>No</td>\n",
              "      <td>7</td>\n",
              "    </tr>\n",
              "    <tr>\n",
              "      <th>3</th>\n",
              "      <td>4th year</td>\n",
              "      <td>Normal</td>\n",
              "      <td>45</td>\n",
              "      <td>Male</td>\n",
              "      <td>23</td>\n",
              "      <td>Home</td>\n",
              "      <td>Single</td>\n",
              "      <td>Yes</td>\n",
              "      <td>4</td>\n",
              "      <td>Normal</td>\n",
              "      <td>No</td>\n",
              "      <td>Yes</td>\n",
              "      <td>No</td>\n",
              "      <td>Family</td>\n",
              "      <td>Yes</td>\n",
              "      <td>No</td>\n",
              "      <td>Yes</td>\n",
              "      <td>No</td>\n",
              "      <td>No</td>\n",
              "      <td>7</td>\n",
              "    </tr>\n",
              "    <tr>\n",
              "      <th>4</th>\n",
              "      <td>4th year</td>\n",
              "      <td>Normal</td>\n",
              "      <td>50</td>\n",
              "      <td>Male</td>\n",
              "      <td>23</td>\n",
              "      <td>Home</td>\n",
              "      <td>Single</td>\n",
              "      <td>Yes</td>\n",
              "      <td>4</td>\n",
              "      <td>Normal</td>\n",
              "      <td>Yes</td>\n",
              "      <td>Yes</td>\n",
              "      <td>Yes</td>\n",
              "      <td>Family</td>\n",
              "      <td>Yes</td>\n",
              "      <td>No</td>\n",
              "      <td>Yes</td>\n",
              "      <td>No</td>\n",
              "      <td>No</td>\n",
              "      <td>7</td>\n",
              "    </tr>\n",
              "  </tbody>\n",
              "</table>\n",
              "</div>"
            ],
            "text/plain": [
              "  Which year are you in?  ... How long did you sleep last night?(in hours)\n",
              "0               4th year  ...                                            7\n",
              "1               4th year  ...                                            7\n",
              "2               4th year  ...                                            7\n",
              "3               4th year  ...                                            7\n",
              "4               4th year  ...                                            7\n",
              "\n",
              "[5 rows x 20 columns]"
            ]
          },
          "metadata": {},
          "execution_count": 96
        }
      ]
    },
    {
      "cell_type": "code",
      "metadata": {
        "id": "QSmf20IOXlPF"
      },
      "source": [
        "new_data = data.dropna(axis = 0)"
      ],
      "execution_count": 97,
      "outputs": []
    },
    {
      "cell_type": "code",
      "metadata": {
        "colab": {
          "base_uri": "https://localhost:8080/"
        },
        "id": "1bQ-zNHNX7Ut",
        "outputId": "43b1e213-9e5b-4034-f258-afa4ecbf7999"
      },
      "source": [
        "new_data.shape"
      ],
      "execution_count": 98,
      "outputs": [
        {
          "output_type": "execute_result",
          "data": {
            "text/plain": [
              "(703, 20)"
            ]
          },
          "metadata": {},
          "execution_count": 98
        }
      ]
    },
    {
      "cell_type": "code",
      "metadata": {
        "colab": {
          "base_uri": "https://localhost:8080/"
        },
        "id": "onsbZL_XX8bi",
        "outputId": "b8940cb6-009d-4f05-dc72-2808d729bc8c"
      },
      "source": [
        "new_data.info()"
      ],
      "execution_count": 99,
      "outputs": [
        {
          "output_type": "stream",
          "name": "stdout",
          "text": [
            "<class 'pandas.core.frame.DataFrame'>\n",
            "Int64Index: 703 entries, 0 to 703\n",
            "Data columns (total 20 columns):\n",
            " #   Column                                                                                        Non-Null Count  Dtype \n",
            "---  ------                                                                                        --------------  ----- \n",
            " 0   Which year are you in?                                                                        703 non-null    object\n",
            " 1   How are you feeling right now?                                                                703 non-null    object\n",
            " 2   On a scale of 1-100, how would you express this feeling?                                      703 non-null    int64 \n",
            " 3   Gender                                                                                        703 non-null    object\n",
            " 4   Age                                                                                           703 non-null    int64 \n",
            " 5   Your location ?                                                                               703 non-null    object\n",
            " 6   Relationship status                                                                           703 non-null    object\n",
            " 7   Are you happy with your financial state?                                                      703 non-null    object\n",
            " 8   How much have you succeeded to cope up with the environment of your educational institution?  703 non-null    int64 \n",
            " 9   Understanding with your family members?                                                       703 non-null    object\n",
            " 10  Are you feeling pressure in your study or work right now?                                     703 non-null    object\n",
            " 11  Are you satisfied with your academic result?                                                  703 non-null    object\n",
            " 12  Are you happy with your living place?                                                         703 non-null    object\n",
            " 13  Who supports you when you are not succeeding in your academic life?                           703 non-null    object\n",
            " 14  Have you used any social media within the last 6 hours?                                       703 non-null    object\n",
            " 15  Do you have inferiority complex?                                                              703 non-null    object\n",
            " 16  Are you satisfied with your meal today?                                                       703 non-null    object\n",
            " 17  Are you feeling sick/health issues today?                                                     703 non-null    object\n",
            " 18  Have you done any recreational activity (sports, gaming, hobby etc.) today?                   703 non-null    object\n",
            " 19  How long did you sleep last night?(in hours)                                                  703 non-null    int64 \n",
            "dtypes: int64(4), object(16)\n",
            "memory usage: 115.3+ KB\n"
          ]
        }
      ]
    },
    {
      "cell_type": "code",
      "metadata": {
        "id": "AhpUvgY2X_Ik"
      },
      "source": [
        "data1 = new_data.copy()"
      ],
      "execution_count": 100,
      "outputs": []
    },
    {
      "cell_type": "code",
      "metadata": {
        "id": "YQXDj3TJeRBY"
      },
      "source": [
        "from sklearn.cluster import KMeans\n",
        "from sklearn.preprocessing import MinMaxScaler"
      ],
      "execution_count": 101,
      "outputs": []
    },
    {
      "cell_type": "markdown",
      "metadata": {
        "id": "H1p2YIgdvCP5"
      },
      "source": [
        "# Data Processing"
      ]
    },
    {
      "cell_type": "code",
      "metadata": {
        "colab": {
          "base_uri": "https://localhost:8080/",
          "height": 592
        },
        "id": "NQxr8UUMYDKY",
        "outputId": "c26b92a8-d0c7-4cef-ec30-38712ae09a71"
      },
      "source": [
        "from sklearn.preprocessing import LabelEncoder\n",
        "encoder = LabelEncoder()\n",
        "data1 = new_data.apply(LabelEncoder().fit_transform)\n",
        "data1"
      ],
      "execution_count": 102,
      "outputs": [
        {
          "output_type": "execute_result",
          "data": {
            "text/html": [
              "<div>\n",
              "<style scoped>\n",
              "    .dataframe tbody tr th:only-of-type {\n",
              "        vertical-align: middle;\n",
              "    }\n",
              "\n",
              "    .dataframe tbody tr th {\n",
              "        vertical-align: top;\n",
              "    }\n",
              "\n",
              "    .dataframe thead th {\n",
              "        text-align: right;\n",
              "    }\n",
              "</style>\n",
              "<table border=\"1\" class=\"dataframe\">\n",
              "  <thead>\n",
              "    <tr style=\"text-align: right;\">\n",
              "      <th></th>\n",
              "      <th>Which year are you in?</th>\n",
              "      <th>How are you feeling right now?</th>\n",
              "      <th>On a scale of 1-100, how would you express this feeling?</th>\n",
              "      <th>Gender</th>\n",
              "      <th>Age</th>\n",
              "      <th>Your location ?</th>\n",
              "      <th>Relationship status</th>\n",
              "      <th>Are you happy with your financial state?</th>\n",
              "      <th>How much have you succeeded to cope up with the environment of your educational institution?</th>\n",
              "      <th>Understanding with your family members?</th>\n",
              "      <th>Are you feeling pressure in your study or work right now?</th>\n",
              "      <th>Are you satisfied with your academic result?</th>\n",
              "      <th>Are you happy with your living place?</th>\n",
              "      <th>Who supports you when you are not succeeding in your academic life?</th>\n",
              "      <th>Have you used any social media within the last 6 hours?</th>\n",
              "      <th>Do you have inferiority complex?</th>\n",
              "      <th>Are you satisfied with your meal today?</th>\n",
              "      <th>Are you feeling sick/health issues today?</th>\n",
              "      <th>Have you done any recreational activity (sports, gaming, hobby etc.) today?</th>\n",
              "      <th>How long did you sleep last night?(in hours)</th>\n",
              "    </tr>\n",
              "  </thead>\n",
              "  <tbody>\n",
              "    <tr>\n",
              "      <th>0</th>\n",
              "      <td>0</td>\n",
              "      <td>2</td>\n",
              "      <td>49</td>\n",
              "      <td>0</td>\n",
              "      <td>0</td>\n",
              "      <td>2</td>\n",
              "      <td>0</td>\n",
              "      <td>1</td>\n",
              "      <td>3</td>\n",
              "      <td>2</td>\n",
              "      <td>0</td>\n",
              "      <td>1</td>\n",
              "      <td>0</td>\n",
              "      <td>0</td>\n",
              "      <td>0</td>\n",
              "      <td>1</td>\n",
              "      <td>2</td>\n",
              "      <td>0</td>\n",
              "      <td>0</td>\n",
              "      <td>4</td>\n",
              "    </tr>\n",
              "    <tr>\n",
              "      <th>1</th>\n",
              "      <td>0</td>\n",
              "      <td>2</td>\n",
              "      <td>39</td>\n",
              "      <td>0</td>\n",
              "      <td>0</td>\n",
              "      <td>2</td>\n",
              "      <td>0</td>\n",
              "      <td>1</td>\n",
              "      <td>3</td>\n",
              "      <td>2</td>\n",
              "      <td>1</td>\n",
              "      <td>1</td>\n",
              "      <td>0</td>\n",
              "      <td>0</td>\n",
              "      <td>0</td>\n",
              "      <td>1</td>\n",
              "      <td>2</td>\n",
              "      <td>0</td>\n",
              "      <td>0</td>\n",
              "      <td>4</td>\n",
              "    </tr>\n",
              "    <tr>\n",
              "      <th>2</th>\n",
              "      <td>0</td>\n",
              "      <td>0</td>\n",
              "      <td>49</td>\n",
              "      <td>0</td>\n",
              "      <td>0</td>\n",
              "      <td>2</td>\n",
              "      <td>0</td>\n",
              "      <td>1</td>\n",
              "      <td>3</td>\n",
              "      <td>2</td>\n",
              "      <td>1</td>\n",
              "      <td>1</td>\n",
              "      <td>0</td>\n",
              "      <td>0</td>\n",
              "      <td>0</td>\n",
              "      <td>1</td>\n",
              "      <td>2</td>\n",
              "      <td>0</td>\n",
              "      <td>0</td>\n",
              "      <td>4</td>\n",
              "    </tr>\n",
              "    <tr>\n",
              "      <th>3</th>\n",
              "      <td>0</td>\n",
              "      <td>2</td>\n",
              "      <td>44</td>\n",
              "      <td>0</td>\n",
              "      <td>0</td>\n",
              "      <td>2</td>\n",
              "      <td>0</td>\n",
              "      <td>1</td>\n",
              "      <td>3</td>\n",
              "      <td>2</td>\n",
              "      <td>0</td>\n",
              "      <td>1</td>\n",
              "      <td>0</td>\n",
              "      <td>0</td>\n",
              "      <td>0</td>\n",
              "      <td>1</td>\n",
              "      <td>2</td>\n",
              "      <td>0</td>\n",
              "      <td>0</td>\n",
              "      <td>4</td>\n",
              "    </tr>\n",
              "    <tr>\n",
              "      <th>4</th>\n",
              "      <td>0</td>\n",
              "      <td>2</td>\n",
              "      <td>49</td>\n",
              "      <td>0</td>\n",
              "      <td>0</td>\n",
              "      <td>2</td>\n",
              "      <td>0</td>\n",
              "      <td>1</td>\n",
              "      <td>3</td>\n",
              "      <td>2</td>\n",
              "      <td>1</td>\n",
              "      <td>1</td>\n",
              "      <td>1</td>\n",
              "      <td>0</td>\n",
              "      <td>0</td>\n",
              "      <td>1</td>\n",
              "      <td>2</td>\n",
              "      <td>0</td>\n",
              "      <td>0</td>\n",
              "      <td>4</td>\n",
              "    </tr>\n",
              "    <tr>\n",
              "      <th>...</th>\n",
              "      <td>...</td>\n",
              "      <td>...</td>\n",
              "      <td>...</td>\n",
              "      <td>...</td>\n",
              "      <td>...</td>\n",
              "      <td>...</td>\n",
              "      <td>...</td>\n",
              "      <td>...</td>\n",
              "      <td>...</td>\n",
              "      <td>...</td>\n",
              "      <td>...</td>\n",
              "      <td>...</td>\n",
              "      <td>...</td>\n",
              "      <td>...</td>\n",
              "      <td>...</td>\n",
              "      <td>...</td>\n",
              "      <td>...</td>\n",
              "      <td>...</td>\n",
              "      <td>...</td>\n",
              "      <td>...</td>\n",
              "    </tr>\n",
              "    <tr>\n",
              "      <th>699</th>\n",
              "      <td>0</td>\n",
              "      <td>2</td>\n",
              "      <td>61</td>\n",
              "      <td>0</td>\n",
              "      <td>0</td>\n",
              "      <td>3</td>\n",
              "      <td>0</td>\n",
              "      <td>1</td>\n",
              "      <td>4</td>\n",
              "      <td>2</td>\n",
              "      <td>0</td>\n",
              "      <td>0</td>\n",
              "      <td>0</td>\n",
              "      <td>1</td>\n",
              "      <td>0</td>\n",
              "      <td>0</td>\n",
              "      <td>2</td>\n",
              "      <td>0</td>\n",
              "      <td>0</td>\n",
              "      <td>5</td>\n",
              "    </tr>\n",
              "    <tr>\n",
              "      <th>700</th>\n",
              "      <td>0</td>\n",
              "      <td>4</td>\n",
              "      <td>89</td>\n",
              "      <td>0</td>\n",
              "      <td>0</td>\n",
              "      <td>3</td>\n",
              "      <td>0</td>\n",
              "      <td>1</td>\n",
              "      <td>4</td>\n",
              "      <td>2</td>\n",
              "      <td>0</td>\n",
              "      <td>0</td>\n",
              "      <td>1</td>\n",
              "      <td>0</td>\n",
              "      <td>0</td>\n",
              "      <td>1</td>\n",
              "      <td>0</td>\n",
              "      <td>0</td>\n",
              "      <td>1</td>\n",
              "      <td>6</td>\n",
              "    </tr>\n",
              "    <tr>\n",
              "      <th>701</th>\n",
              "      <td>0</td>\n",
              "      <td>4</td>\n",
              "      <td>91</td>\n",
              "      <td>0</td>\n",
              "      <td>0</td>\n",
              "      <td>1</td>\n",
              "      <td>0</td>\n",
              "      <td>1</td>\n",
              "      <td>4</td>\n",
              "      <td>2</td>\n",
              "      <td>0</td>\n",
              "      <td>1</td>\n",
              "      <td>1</td>\n",
              "      <td>0</td>\n",
              "      <td>0</td>\n",
              "      <td>1</td>\n",
              "      <td>2</td>\n",
              "      <td>0</td>\n",
              "      <td>0</td>\n",
              "      <td>5</td>\n",
              "    </tr>\n",
              "    <tr>\n",
              "      <th>702</th>\n",
              "      <td>0</td>\n",
              "      <td>4</td>\n",
              "      <td>98</td>\n",
              "      <td>0</td>\n",
              "      <td>0</td>\n",
              "      <td>3</td>\n",
              "      <td>0</td>\n",
              "      <td>1</td>\n",
              "      <td>3</td>\n",
              "      <td>1</td>\n",
              "      <td>0</td>\n",
              "      <td>1</td>\n",
              "      <td>1</td>\n",
              "      <td>1</td>\n",
              "      <td>0</td>\n",
              "      <td>1</td>\n",
              "      <td>2</td>\n",
              "      <td>0</td>\n",
              "      <td>1</td>\n",
              "      <td>7</td>\n",
              "    </tr>\n",
              "    <tr>\n",
              "      <th>703</th>\n",
              "      <td>0</td>\n",
              "      <td>1</td>\n",
              "      <td>85</td>\n",
              "      <td>0</td>\n",
              "      <td>0</td>\n",
              "      <td>1</td>\n",
              "      <td>0</td>\n",
              "      <td>1</td>\n",
              "      <td>4</td>\n",
              "      <td>2</td>\n",
              "      <td>0</td>\n",
              "      <td>0</td>\n",
              "      <td>1</td>\n",
              "      <td>0</td>\n",
              "      <td>0</td>\n",
              "      <td>1</td>\n",
              "      <td>2</td>\n",
              "      <td>0</td>\n",
              "      <td>0</td>\n",
              "      <td>5</td>\n",
              "    </tr>\n",
              "  </tbody>\n",
              "</table>\n",
              "<p>703 rows × 20 columns</p>\n",
              "</div>"
            ],
            "text/plain": [
              "     Which year are you in?  ...  How long did you sleep last night?(in hours)\n",
              "0                         0  ...                                             4\n",
              "1                         0  ...                                             4\n",
              "2                         0  ...                                             4\n",
              "3                         0  ...                                             4\n",
              "4                         0  ...                                             4\n",
              "..                      ...  ...                                           ...\n",
              "699                       0  ...                                             5\n",
              "700                       0  ...                                             6\n",
              "701                       0  ...                                             5\n",
              "702                       0  ...                                             7\n",
              "703                       0  ...                                             5\n",
              "\n",
              "[703 rows x 20 columns]"
            ]
          },
          "metadata": {},
          "execution_count": 102
        }
      ]
    },
    {
      "cell_type": "markdown",
      "metadata": {
        "id": "r0obSR27vK1J"
      },
      "source": [
        "# Fiting the standardized data using PCA."
      ]
    },
    {
      "cell_type": "code",
      "metadata": {
        "id": "e0IuXd3SYEnK"
      },
      "source": [
        "from sklearn.decomposition import PCA"
      ],
      "execution_count": 103,
      "outputs": []
    },
    {
      "cell_type": "code",
      "metadata": {
        "id": "enw20yrYYZZL"
      },
      "source": [
        "pca = PCA()\n",
        "compressed_data = pca.fit_transform(data1)"
      ],
      "execution_count": 104,
      "outputs": []
    },
    {
      "cell_type": "code",
      "metadata": {
        "colab": {
          "base_uri": "https://localhost:8080/"
        },
        "id": "tBl4zi61Ys4G",
        "outputId": "8f5153ca-b7f8-4a14-fcf0-e96c9cc05b08"
      },
      "source": [
        "pca.explained_variance_ratio_     #deciding how many features i would like to keep based on the cumulative variance plot."
      ],
      "execution_count": 105,
      "outputs": [
        {
          "output_type": "execute_result",
          "data": {
            "text/plain": [
              "array([9.90692328e-01, 2.19395238e-03, 1.74736385e-03, 1.32643545e-03,\n",
              "       9.74043162e-04, 8.85380413e-04, 4.51651282e-04, 3.62902782e-04,\n",
              "       2.88253259e-04, 2.74080898e-04, 2.30853525e-04, 1.92704774e-04,\n",
              "       1.57919934e-04, 1.50965361e-04, 7.11648166e-05, 1.50624163e-35,\n",
              "       4.59561186e-36, 6.48532320e-37, 3.56261084e-38, 0.00000000e+00])"
            ]
          },
          "metadata": {},
          "execution_count": 105
        }
      ]
    },
    {
      "cell_type": "code",
      "metadata": {
        "colab": {
          "base_uri": "https://localhost:8080/",
          "height": 530
        },
        "id": "tFSMW0fJYxxk",
        "outputId": "857e6405-a3bc-4425-83b6-0ee7e224100d"
      },
      "source": [
        "plt.figure(figsize=(10,8))\n",
        "plt.plot(range(1,21), pca.explained_variance_ratio_.cumsum(), marker = 'o', linestyle = '--')\n",
        "plt.title(\"Explained variance by components\")\n",
        "plt.xlabel('Number of components')\n",
        "plt.ylabel('Cumulative Explained Variance')"
      ],
      "execution_count": 106,
      "outputs": [
        {
          "output_type": "execute_result",
          "data": {
            "text/plain": [
              "Text(0, 0.5, 'Cumulative Explained Variance')"
            ]
          },
          "metadata": {},
          "execution_count": 106
        },
        {
          "output_type": "display_data",
          "data": {
            "image/png": "[encoded data removed]",
            "text/plain": [
              "<Figure size 720x576 with 1 Axes>"
            ]
          },
          "metadata": {
            "needs_background": "light"
          }
        }
      ]
    },
    {
      "cell_type": "markdown",
      "metadata": {
        "id": "DYWVOWCNwJbN"
      },
      "source": [
        "# Performing PCA with chosen number of components"
      ]
    },
    {
      "cell_type": "code",
      "metadata": {
        "id": "ja943WGAbJWw"
      },
      "source": [
        "pca = PCA(n_components = 3)"
      ],
      "execution_count": 107,
      "outputs": []
    },
    {
      "cell_type": "code",
      "metadata": {
        "colab": {
          "base_uri": "https://localhost:8080/"
        },
        "id": "7QBVh1k5bZH3",
        "outputId": "7d7b9f10-f33e-4a07-93af-68f52d33dede"
      },
      "source": [
        "pca.fit(data1)"
      ],
      "execution_count": 108,
      "outputs": [
        {
          "output_type": "execute_result",
          "data": {
            "text/plain": [
              "PCA(copy=True, iterated_power='auto', n_components=3, random_state=None,\n",
              "    svd_solver='auto', tol=0.0, whiten=False)"
            ]
          },
          "metadata": {},
          "execution_count": 108
        }
      ]
    },
    {
      "cell_type": "code",
      "metadata": {
        "colab": {
          "base_uri": "https://localhost:8080/"
        },
        "id": "uM26luGRbllw",
        "outputId": "93bac245-9cbd-4a13-d588-c49ab57c4afd"
      },
      "source": [
        "pca.transform(data1)"
      ],
      "execution_count": 109,
      "outputs": [
        {
          "output_type": "execute_result",
          "data": {
            "text/plain": [
              "array([[  6.15293253,  -0.66919003,   0.72866287],\n",
              "       [ 16.14872008,  -1.06059115,   1.041042  ],\n",
              "       [  6.18825989,   0.90415567,   1.9637371 ],\n",
              "       ...,\n",
              "       [-35.87429597,  -1.14165958,  -1.19072154],\n",
              "       [-42.92996658,  -1.77111111,  -0.06694638],\n",
              "       [-29.85176674,   0.92371773,   0.90355995]])"
            ]
          },
          "metadata": {},
          "execution_count": 109
        }
      ]
    },
    {
      "cell_type": "code",
      "metadata": {
        "id": "i_GC2PtpbyJk"
      },
      "source": [
        "score_pca = pca.transform(data1)"
      ],
      "execution_count": 110,
      "outputs": []
    },
    {
      "cell_type": "markdown",
      "metadata": {
        "id": "SPgZvk_hwUya"
      },
      "source": [
        "# Chosing K using Elbow method"
      ]
    },
    {
      "cell_type": "code",
      "metadata": {
        "colab": {
          "base_uri": "https://localhost:8080/"
        },
        "id": "cB_Cf2_keoq_",
        "outputId": "24e0febd-0dd0-45e6-f652-c8e90e5ef224"
      },
      "source": [
        "wcss = []    #WCSS is the sum of squared distance between each point and the centroid in a cluster\n",
        "\n",
        "for k in range(1,9):\n",
        "  kmeans = KMeans(n_clusters = k)\n",
        "  kmeans.fit(score_pca)\n",
        "  wcss_iter = kmeans.inertia_\n",
        "  wcss.append(wcss_iter)\n",
        "\n",
        "wcss"
      ],
      "execution_count": 111,
      "outputs": [
        {
          "output_type": "execute_result",
          "data": {
            "text/plain": [
              "[646098.3813633753,\n",
              " 153513.5125634852,\n",
              " 65048.70461699538,\n",
              " 37238.85100463095,\n",
              " 21867.03234113112,\n",
              " 16893.142748637194,\n",
              " 12824.010894046782,\n",
              " 9982.419119107015]"
            ]
          },
          "metadata": {},
          "execution_count": 111
        }
      ]
    },
    {
      "cell_type": "code",
      "metadata": {
        "colab": {
          "base_uri": "https://localhost:8080/",
          "height": 530
        },
        "id": "yRotn_MLfLgK",
        "outputId": "cda70882-51d3-497d-ab9d-44a52774fd2c"
      },
      "source": [
        "plt.figure(figsize=(10,8))\n",
        "plt.plot(range(1,9), wcss, marker = 'o', linestyle = '-')\n",
        "plt.xlabel('Number of cluster (K)')\n",
        "plt.ylabel('wcss')\n",
        "plt.title('K-means with PCA clustering')"
      ],
      "execution_count": 112,
      "outputs": [
        {
          "output_type": "execute_result",
          "data": {
            "text/plain": [
              "Text(0.5, 1.0, 'K-means with PCA clustering')"
            ]
          },
          "metadata": {},
          "execution_count": 112
        },
        {
          "output_type": "display_data",
          "data": {
            "image/png": "[encoded data removed]",
            "text/plain": [
              "<Figure size 720x576 with 1 Axes>"
            ]
          },
          "metadata": {
            "needs_background": "light"
          }
        }
      ]
    },
    {
      "cell_type": "code",
      "metadata": {
        "colab": {
          "base_uri": "https://localhost:8080/"
        },
        "id": "0Qv0kmdZf0kY",
        "outputId": "1cdc592f-966f-4616-a866-765292192e1f"
      },
      "source": [
        "km  = KMeans(n_clusters= 3)\n",
        "km"
      ],
      "execution_count": 113,
      "outputs": [
        {
          "output_type": "execute_result",
          "data": {
            "text/plain": [
              "KMeans(algorithm='auto', copy_x=True, init='k-means++', max_iter=300,\n",
              "       n_clusters=3, n_init=10, n_jobs=None, precompute_distances='auto',\n",
              "       random_state=None, tol=0.0001, verbose=0)"
            ]
          },
          "metadata": {},
          "execution_count": 113
        }
      ]
    },
    {
      "cell_type": "code",
      "metadata": {
        "colab": {
          "base_uri": "https://localhost:8080/"
        },
        "id": "d7bT2vaHgP26",
        "outputId": "6ecf8226-ca6e-4248-b744-9b542435d179"
      },
      "source": [
        "km.fit(score_pca)"
      ],
      "execution_count": 114,
      "outputs": [
        {
          "output_type": "execute_result",
          "data": {
            "text/plain": [
              "KMeans(algorithm='auto', copy_x=True, init='k-means++', max_iter=300,\n",
              "       n_clusters=3, n_init=10, n_jobs=None, precompute_distances='auto',\n",
              "       random_state=None, tol=0.0001, verbose=0)"
            ]
          },
          "metadata": {},
          "execution_count": 114
        }
      ]
    },
    {
      "cell_type": "code",
      "metadata": {
        "colab": {
          "base_uri": "https://localhost:8080/"
        },
        "id": "Noy-fSptmMbn",
        "outputId": "59107d5d-4452-4924-d7ae-e61da0bc38ec"
      },
      "source": [
        "y_pred = km.fit_predict(score_pca)\n",
        "y_pred"
      ],
      "execution_count": 115,
      "outputs": [
        {
          "output_type": "execute_result",
          "data": {
            "text/plain": [
              "array([0, 0, 0, 0, 0, 0, 0, 0, 0, 0, 0, 0, 0, 0, 0, 2, 2, 0, 0, 0, 0, 0,\n",
              "       0, 0, 0, 2, 2, 2, 2, 2, 2, 2, 2, 2, 2, 2, 2, 1, 1, 2, 2, 2, 0, 0,\n",
              "       2, 0, 2, 2, 2, 2, 1, 1, 0, 1, 1, 0, 1, 2, 0, 2, 1, 2, 0, 2, 2, 0,\n",
              "       0, 2, 0, 1, 2, 0, 1, 0, 1, 1, 2, 1, 1, 2, 0, 0, 1, 1, 0, 2, 2, 1,\n",
              "       2, 2, 0, 2, 2, 1, 2, 1, 2, 0, 2, 2, 0, 1, 2, 2, 1, 0, 1, 0, 2, 2,\n",
              "       2, 0, 2, 0, 0, 0, 1, 0, 2, 0, 2, 0, 2, 2, 2, 2, 0, 0, 1, 1, 0, 2,\n",
              "       0, 1, 1, 1, 2, 0, 0, 2, 2, 0, 0, 2, 0, 2, 2, 1, 0, 0, 0, 2, 2, 0,\n",
              "       1, 1, 1, 1, 0, 2, 0, 1, 0, 2, 2, 0, 2, 2, 2, 1, 1, 2, 2, 1, 2, 1,\n",
              "       0, 1, 2, 1, 1, 0, 0, 2, 2, 1, 1, 2, 0, 1, 1, 1, 2, 0, 2, 0, 0, 0,\n",
              "       1, 2, 2, 0, 1, 1, 1, 0, 2, 1, 2, 2, 2, 0, 0, 1, 0, 1, 2, 2, 2, 2,\n",
              "       1, 0, 0, 1, 2, 0, 0, 2, 1, 0, 2, 1, 1, 0, 0, 1, 2, 2, 2, 0, 1, 0,\n",
              "       0, 1, 1, 1, 0, 2, 2, 1, 2, 2, 2, 2, 1, 2, 0, 2, 1, 1, 1, 2, 0, 2,\n",
              "       1, 0, 0, 1, 0, 0, 1, 2, 2, 2, 1, 1, 1, 0, 0, 2, 1, 0, 1, 1, 2, 2,\n",
              "       1, 2, 0, 2, 2, 2, 1, 2, 1, 1, 2, 0, 1, 0, 2, 2, 2, 2, 2, 2, 2, 0,\n",
              "       2, 1, 2, 2, 2, 1, 2, 1, 1, 0, 2, 0, 1, 0, 2, 2, 1, 1, 1, 2, 1, 0,\n",
              "       1, 0, 2, 0, 2, 1, 2, 1, 0, 2, 1, 0, 0, 2, 0, 1, 2, 2, 0, 0, 0, 1,\n",
              "       1, 1, 0, 2, 2, 1, 2, 2, 0, 2, 1, 0, 2, 0, 0, 0, 1, 2, 1, 2, 2, 1,\n",
              "       2, 2, 2, 2, 0, 1, 2, 2, 2, 1, 0, 1, 1, 2, 0, 2, 0, 1, 1, 2, 2, 2,\n",
              "       0, 2, 2, 2, 0, 0, 1, 2, 2, 1, 1, 1, 2, 2, 1, 2, 2, 2, 0, 0, 2, 1,\n",
              "       2, 2, 1, 1, 1, 2, 2, 1, 2, 2, 0, 2, 1, 1, 2, 0, 1, 0, 1, 2, 0, 1,\n",
              "       1, 1, 2, 0, 2, 2, 1, 1, 0, 1, 1, 2, 2, 1, 1, 2, 2, 0, 2, 2, 1, 1,\n",
              "       1, 1, 0, 2, 2, 0, 2, 0, 1, 2, 1, 2, 1, 2, 0, 0, 0, 1, 0, 0, 0, 0,\n",
              "       0, 2, 1, 1, 2, 2, 2, 1, 2, 0, 1, 0, 0, 1, 1, 2, 0, 1, 0, 2, 2, 0,\n",
              "       1, 2, 1, 1, 1, 1, 0, 0, 0, 2, 0, 2, 1, 1, 1, 2, 2, 0, 0, 0, 2, 1,\n",
              "       2, 1, 2, 2, 2, 0, 0, 2, 0, 1, 0, 2, 0, 0, 2, 0, 0, 0, 0, 1, 0, 0,\n",
              "       0, 2, 0, 2, 1, 2, 2, 2, 1, 1, 1, 1, 2, 2, 1, 0, 1, 1, 0, 1, 2, 1,\n",
              "       1, 1, 2, 2, 0, 2, 2, 1, 2, 1, 1, 2, 2, 2, 1, 1, 1, 2, 2, 0, 0, 0,\n",
              "       2, 0, 1, 1, 2, 0, 1, 1, 1, 0, 0, 2, 1, 0, 0, 2, 1, 0, 0, 0, 0, 2,\n",
              "       1, 2, 2, 1, 0, 0, 1, 0, 0, 0, 1, 1, 2, 2, 1, 0, 1, 0, 0, 0, 2, 1,\n",
              "       2, 1, 1, 1, 1, 1, 2, 0, 2, 0, 0, 2, 1, 2, 2, 1, 2, 1, 2, 2, 0, 0,\n",
              "       2, 0, 1, 0, 0, 1, 1, 1, 0, 2, 2, 1, 0, 2, 2, 0, 2, 2, 2, 2, 0, 1,\n",
              "       2, 2, 2, 1, 0, 0, 1, 2, 0, 1, 1, 2, 0, 1, 1, 0, 0, 2, 2, 2, 2],\n",
              "      dtype=int32)"
            ]
          },
          "metadata": {},
          "execution_count": 115
        }
      ]
    },
    {
      "cell_type": "markdown",
      "metadata": {
        "id": "tvWmt7nrwrKP"
      },
      "source": [
        "# Analyze the Results of PCA and K-Means Clustering"
      ]
    },
    {
      "cell_type": "code",
      "metadata": {
        "id": "BzRPPbfEqA4G"
      },
      "source": [
        "df = pd.concat([data1.reset_index(drop = True), pd.DataFrame(score_pca)], axis = 1)\n",
        "df.columns.values[-3: ] = ['Component 1', 'Component 2', 'Component 3']\n",
        "df['Segment K-means PCA'] = km.labels_"
      ],
      "execution_count": 122,
      "outputs": []
    },
    {
      "cell_type": "code",
      "metadata": {
        "colab": {
          "base_uri": "https://localhost:8080/",
          "height": 377
        },
        "id": "sZgLlNiNqv73",
        "outputId": "bc257fe5-697b-4ae2-e8a7-994ecaa59c83"
      },
      "source": [
        "df.head()"
      ],
      "execution_count": 123,
      "outputs": [
        {
          "output_type": "execute_result",
          "data": {
            "text/html": [
              "<div>\n",
              "<style scoped>\n",
              "    .dataframe tbody tr th:only-of-type {\n",
              "        vertical-align: middle;\n",
              "    }\n",
              "\n",
              "    .dataframe tbody tr th {\n",
              "        vertical-align: top;\n",
              "    }\n",
              "\n",
              "    .dataframe thead th {\n",
              "        text-align: right;\n",
              "    }\n",
              "</style>\n",
              "<table border=\"1\" class=\"dataframe\">\n",
              "  <thead>\n",
              "    <tr style=\"text-align: right;\">\n",
              "      <th></th>\n",
              "      <th>Which year are you in?</th>\n",
              "      <th>How are you feeling right now?</th>\n",
              "      <th>On a scale of 1-100, how would you express this feeling?</th>\n",
              "      <th>Gender</th>\n",
              "      <th>Age</th>\n",
              "      <th>Your location ?</th>\n",
              "      <th>Relationship status</th>\n",
              "      <th>Are you happy with your financial state?</th>\n",
              "      <th>How much have you succeeded to cope up with the environment of your educational institution?</th>\n",
              "      <th>Understanding with your family members?</th>\n",
              "      <th>Are you feeling pressure in your study or work right now?</th>\n",
              "      <th>Are you satisfied with your academic result?</th>\n",
              "      <th>Are you happy with your living place?</th>\n",
              "      <th>Who supports you when you are not succeeding in your academic life?</th>\n",
              "      <th>Have you used any social media within the last 6 hours?</th>\n",
              "      <th>Do you have inferiority complex?</th>\n",
              "      <th>Are you satisfied with your meal today?</th>\n",
              "      <th>Are you feeling sick/health issues today?</th>\n",
              "      <th>Have you done any recreational activity (sports, gaming, hobby etc.) today?</th>\n",
              "      <th>How long did you sleep last night?(in hours)</th>\n",
              "      <th>Component 1</th>\n",
              "      <th>Component 2</th>\n",
              "      <th>Component 3</th>\n",
              "      <th>Segment K-means PCA</th>\n",
              "    </tr>\n",
              "  </thead>\n",
              "  <tbody>\n",
              "    <tr>\n",
              "      <th>0</th>\n",
              "      <td>0</td>\n",
              "      <td>2</td>\n",
              "      <td>49</td>\n",
              "      <td>0</td>\n",
              "      <td>0</td>\n",
              "      <td>2</td>\n",
              "      <td>0</td>\n",
              "      <td>1</td>\n",
              "      <td>3</td>\n",
              "      <td>2</td>\n",
              "      <td>0</td>\n",
              "      <td>1</td>\n",
              "      <td>0</td>\n",
              "      <td>0</td>\n",
              "      <td>0</td>\n",
              "      <td>1</td>\n",
              "      <td>2</td>\n",
              "      <td>0</td>\n",
              "      <td>0</td>\n",
              "      <td>4</td>\n",
              "      <td>6.152933</td>\n",
              "      <td>-0.669190</td>\n",
              "      <td>0.728663</td>\n",
              "      <td>0</td>\n",
              "    </tr>\n",
              "    <tr>\n",
              "      <th>1</th>\n",
              "      <td>0</td>\n",
              "      <td>2</td>\n",
              "      <td>39</td>\n",
              "      <td>0</td>\n",
              "      <td>0</td>\n",
              "      <td>2</td>\n",
              "      <td>0</td>\n",
              "      <td>1</td>\n",
              "      <td>3</td>\n",
              "      <td>2</td>\n",
              "      <td>1</td>\n",
              "      <td>1</td>\n",
              "      <td>0</td>\n",
              "      <td>0</td>\n",
              "      <td>0</td>\n",
              "      <td>1</td>\n",
              "      <td>2</td>\n",
              "      <td>0</td>\n",
              "      <td>0</td>\n",
              "      <td>4</td>\n",
              "      <td>16.148720</td>\n",
              "      <td>-1.060591</td>\n",
              "      <td>1.041042</td>\n",
              "      <td>0</td>\n",
              "    </tr>\n",
              "    <tr>\n",
              "      <th>2</th>\n",
              "      <td>0</td>\n",
              "      <td>0</td>\n",
              "      <td>49</td>\n",
              "      <td>0</td>\n",
              "      <td>0</td>\n",
              "      <td>2</td>\n",
              "      <td>0</td>\n",
              "      <td>1</td>\n",
              "      <td>3</td>\n",
              "      <td>2</td>\n",
              "      <td>1</td>\n",
              "      <td>1</td>\n",
              "      <td>0</td>\n",
              "      <td>0</td>\n",
              "      <td>0</td>\n",
              "      <td>1</td>\n",
              "      <td>2</td>\n",
              "      <td>0</td>\n",
              "      <td>0</td>\n",
              "      <td>4</td>\n",
              "      <td>6.188260</td>\n",
              "      <td>0.904156</td>\n",
              "      <td>1.963737</td>\n",
              "      <td>0</td>\n",
              "    </tr>\n",
              "    <tr>\n",
              "      <th>3</th>\n",
              "      <td>0</td>\n",
              "      <td>2</td>\n",
              "      <td>44</td>\n",
              "      <td>0</td>\n",
              "      <td>0</td>\n",
              "      <td>2</td>\n",
              "      <td>0</td>\n",
              "      <td>1</td>\n",
              "      <td>3</td>\n",
              "      <td>2</td>\n",
              "      <td>0</td>\n",
              "      <td>1</td>\n",
              "      <td>0</td>\n",
              "      <td>0</td>\n",
              "      <td>0</td>\n",
              "      <td>1</td>\n",
              "      <td>2</td>\n",
              "      <td>0</td>\n",
              "      <td>0</td>\n",
              "      <td>4</td>\n",
              "      <td>11.144013</td>\n",
              "      <td>-0.892333</td>\n",
              "      <td>0.903135</td>\n",
              "      <td>0</td>\n",
              "    </tr>\n",
              "    <tr>\n",
              "      <th>4</th>\n",
              "      <td>0</td>\n",
              "      <td>2</td>\n",
              "      <td>49</td>\n",
              "      <td>0</td>\n",
              "      <td>0</td>\n",
              "      <td>2</td>\n",
              "      <td>0</td>\n",
              "      <td>1</td>\n",
              "      <td>3</td>\n",
              "      <td>2</td>\n",
              "      <td>1</td>\n",
              "      <td>1</td>\n",
              "      <td>1</td>\n",
              "      <td>0</td>\n",
              "      <td>0</td>\n",
              "      <td>1</td>\n",
              "      <td>2</td>\n",
              "      <td>0</td>\n",
              "      <td>0</td>\n",
              "      <td>4</td>\n",
              "      <td>6.160064</td>\n",
              "      <td>-0.635737</td>\n",
              "      <td>0.710484</td>\n",
              "      <td>0</td>\n",
              "    </tr>\n",
              "  </tbody>\n",
              "</table>\n",
              "</div>"
            ],
            "text/plain": [
              "   Which year are you in?  ...  Segment K-means PCA\n",
              "0                       0  ...                    0\n",
              "1                       0  ...                    0\n",
              "2                       0  ...                    0\n",
              "3                       0  ...                    0\n",
              "4                       0  ...                    0\n",
              "\n",
              "[5 rows x 24 columns]"
            ]
          },
          "metadata": {},
          "execution_count": 123
        }
      ]
    },
    {
      "cell_type": "code",
      "metadata": {
        "id": "hytLxmW-rb1R"
      },
      "source": [
        "df['segment'] = df['Segment K-means PCA'].map({0:'first', 1:'second', 2:'third'})"
      ],
      "execution_count": 124,
      "outputs": []
    },
    {
      "cell_type": "code",
      "metadata": {
        "colab": {
          "base_uri": "https://localhost:8080/",
          "height": 377
        },
        "id": "YvVttBxPsOir",
        "outputId": "146ddfec-d06d-40fb-d27f-73c255165b72"
      },
      "source": [
        "df.head()"
      ],
      "execution_count": 125,
      "outputs": [
        {
          "output_type": "execute_result",
          "data": {
            "text/html": [
              "<div>\n",
              "<style scoped>\n",
              "    .dataframe tbody tr th:only-of-type {\n",
              "        vertical-align: middle;\n",
              "    }\n",
              "\n",
              "    .dataframe tbody tr th {\n",
              "        vertical-align: top;\n",
              "    }\n",
              "\n",
              "    .dataframe thead th {\n",
              "        text-align: right;\n",
              "    }\n",
              "</style>\n",
              "<table border=\"1\" class=\"dataframe\">\n",
              "  <thead>\n",
              "    <tr style=\"text-align: right;\">\n",
              "      <th></th>\n",
              "      <th>Which year are you in?</th>\n",
              "      <th>How are you feeling right now?</th>\n",
              "      <th>On a scale of 1-100, how would you express this feeling?</th>\n",
              "      <th>Gender</th>\n",
              "      <th>Age</th>\n",
              "      <th>Your location ?</th>\n",
              "      <th>Relationship status</th>\n",
              "      <th>Are you happy with your financial state?</th>\n",
              "      <th>How much have you succeeded to cope up with the environment of your educational institution?</th>\n",
              "      <th>Understanding with your family members?</th>\n",
              "      <th>Are you feeling pressure in your study or work right now?</th>\n",
              "      <th>Are you satisfied with your academic result?</th>\n",
              "      <th>Are you happy with your living place?</th>\n",
              "      <th>Who supports you when you are not succeeding in your academic life?</th>\n",
              "      <th>Have you used any social media within the last 6 hours?</th>\n",
              "      <th>Do you have inferiority complex?</th>\n",
              "      <th>Are you satisfied with your meal today?</th>\n",
              "      <th>Are you feeling sick/health issues today?</th>\n",
              "      <th>Have you done any recreational activity (sports, gaming, hobby etc.) today?</th>\n",
              "      <th>How long did you sleep last night?(in hours)</th>\n",
              "      <th>Component 1</th>\n",
              "      <th>Component 2</th>\n",
              "      <th>Component 3</th>\n",
              "      <th>Segment K-means PCA</th>\n",
              "      <th>segment</th>\n",
              "    </tr>\n",
              "  </thead>\n",
              "  <tbody>\n",
              "    <tr>\n",
              "      <th>0</th>\n",
              "      <td>0</td>\n",
              "      <td>2</td>\n",
              "      <td>49</td>\n",
              "      <td>0</td>\n",
              "      <td>0</td>\n",
              "      <td>2</td>\n",
              "      <td>0</td>\n",
              "      <td>1</td>\n",
              "      <td>3</td>\n",
              "      <td>2</td>\n",
              "      <td>0</td>\n",
              "      <td>1</td>\n",
              "      <td>0</td>\n",
              "      <td>0</td>\n",
              "      <td>0</td>\n",
              "      <td>1</td>\n",
              "      <td>2</td>\n",
              "      <td>0</td>\n",
              "      <td>0</td>\n",
              "      <td>4</td>\n",
              "      <td>6.152933</td>\n",
              "      <td>-0.669190</td>\n",
              "      <td>0.728663</td>\n",
              "      <td>0</td>\n",
              "      <td>first</td>\n",
              "    </tr>\n",
              "    <tr>\n",
              "      <th>1</th>\n",
              "      <td>0</td>\n",
              "      <td>2</td>\n",
              "      <td>39</td>\n",
              "      <td>0</td>\n",
              "      <td>0</td>\n",
              "      <td>2</td>\n",
              "      <td>0</td>\n",
              "      <td>1</td>\n",
              "      <td>3</td>\n",
              "      <td>2</td>\n",
              "      <td>1</td>\n",
              "      <td>1</td>\n",
              "      <td>0</td>\n",
              "      <td>0</td>\n",
              "      <td>0</td>\n",
              "      <td>1</td>\n",
              "      <td>2</td>\n",
              "      <td>0</td>\n",
              "      <td>0</td>\n",
              "      <td>4</td>\n",
              "      <td>16.148720</td>\n",
              "      <td>-1.060591</td>\n",
              "      <td>1.041042</td>\n",
              "      <td>0</td>\n",
              "      <td>first</td>\n",
              "    </tr>\n",
              "    <tr>\n",
              "      <th>2</th>\n",
              "      <td>0</td>\n",
              "      <td>0</td>\n",
              "      <td>49</td>\n",
              "      <td>0</td>\n",
              "      <td>0</td>\n",
              "      <td>2</td>\n",
              "      <td>0</td>\n",
              "      <td>1</td>\n",
              "      <td>3</td>\n",
              "      <td>2</td>\n",
              "      <td>1</td>\n",
              "      <td>1</td>\n",
              "      <td>0</td>\n",
              "      <td>0</td>\n",
              "      <td>0</td>\n",
              "      <td>1</td>\n",
              "      <td>2</td>\n",
              "      <td>0</td>\n",
              "      <td>0</td>\n",
              "      <td>4</td>\n",
              "      <td>6.188260</td>\n",
              "      <td>0.904156</td>\n",
              "      <td>1.963737</td>\n",
              "      <td>0</td>\n",
              "      <td>first</td>\n",
              "    </tr>\n",
              "    <tr>\n",
              "      <th>3</th>\n",
              "      <td>0</td>\n",
              "      <td>2</td>\n",
              "      <td>44</td>\n",
              "      <td>0</td>\n",
              "      <td>0</td>\n",
              "      <td>2</td>\n",
              "      <td>0</td>\n",
              "      <td>1</td>\n",
              "      <td>3</td>\n",
              "      <td>2</td>\n",
              "      <td>0</td>\n",
              "      <td>1</td>\n",
              "      <td>0</td>\n",
              "      <td>0</td>\n",
              "      <td>0</td>\n",
              "      <td>1</td>\n",
              "      <td>2</td>\n",
              "      <td>0</td>\n",
              "      <td>0</td>\n",
              "      <td>4</td>\n",
              "      <td>11.144013</td>\n",
              "      <td>-0.892333</td>\n",
              "      <td>0.903135</td>\n",
              "      <td>0</td>\n",
              "      <td>first</td>\n",
              "    </tr>\n",
              "    <tr>\n",
              "      <th>4</th>\n",
              "      <td>0</td>\n",
              "      <td>2</td>\n",
              "      <td>49</td>\n",
              "      <td>0</td>\n",
              "      <td>0</td>\n",
              "      <td>2</td>\n",
              "      <td>0</td>\n",
              "      <td>1</td>\n",
              "      <td>3</td>\n",
              "      <td>2</td>\n",
              "      <td>1</td>\n",
              "      <td>1</td>\n",
              "      <td>1</td>\n",
              "      <td>0</td>\n",
              "      <td>0</td>\n",
              "      <td>1</td>\n",
              "      <td>2</td>\n",
              "      <td>0</td>\n",
              "      <td>0</td>\n",
              "      <td>4</td>\n",
              "      <td>6.160064</td>\n",
              "      <td>-0.635737</td>\n",
              "      <td>0.710484</td>\n",
              "      <td>0</td>\n",
              "      <td>first</td>\n",
              "    </tr>\n",
              "  </tbody>\n",
              "</table>\n",
              "</div>"
            ],
            "text/plain": [
              "   Which year are you in?  ...  segment\n",
              "0                       0  ...    first\n",
              "1                       0  ...    first\n",
              "2                       0  ...    first\n",
              "3                       0  ...    first\n",
              "4                       0  ...    first\n",
              "\n",
              "[5 rows x 25 columns]"
            ]
          },
          "metadata": {},
          "execution_count": 125
        }
      ]
    },
    {
      "cell_type": "markdown",
      "metadata": {
        "id": "qU8jaupfwwG5"
      },
      "source": [
        "# Ploting graph of Clustering"
      ]
    },
    {
      "cell_type": "code",
      "metadata": {
        "colab": {
          "base_uri": "https://localhost:8080/",
          "height": 567
        },
        "id": "E7ub8V5NsXWI",
        "outputId": "02d433bd-9c53-45a0-f853-90aee3ba032d"
      },
      "source": [
        "x_axis = df['Component 2']\n",
        "y_axis = df['Component 1']\n",
        "plt.figure(figsize = (10,8))\n",
        "sns.scatterplot(x_axis, y_axis, hue = df['segment'])\n",
        "plt.title('clustering by PCA components')\n",
        "plt.show()"
      ],
      "execution_count": 126,
      "outputs": [
        {
          "output_type": "stream",
          "name": "stderr",
          "text": [
            "/usr/local/lib/python3.7/dist-packages/seaborn/_decorators.py:43: FutureWarning: Pass the following variables as keyword args: x, y. From version 0.12, the only valid positional argument will be `data`, and passing other arguments without an explicit keyword will result in an error or misinterpretation.\n",
            "  FutureWarning\n"
          ]
        },
        {
          "output_type": "display_data",
          "data": {
            "image/png": "[encoded data removed]",
            "text/plain": [
              "<Figure size 720x576 with 1 Axes>"
            ]
          },
          "metadata": {
            "needs_background": "light"
          }
        }
      ]
    }
  ]
}